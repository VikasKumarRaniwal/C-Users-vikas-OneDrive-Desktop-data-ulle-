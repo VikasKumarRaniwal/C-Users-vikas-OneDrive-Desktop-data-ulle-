{
 "cells": [
  {
   "cell_type": "markdown",
   "id": "61f7f64e",
   "metadata": {},
   "source": [
    "# What is pandas??\n"
   ]
  },
  {
   "cell_type": "code",
   "execution_count": 1,
   "id": "7c42fd8a",
   "metadata": {},
   "outputs": [],
   "source": [
    "# Pandas is a powerful and versatile library that simplifies tasks of data manipulation in Python . Pandas is built on top of the\n",
    "# NumPy library and is particularly well-suited for working with tabular data, such as spreadsheets or SQL tables. Its versatility\n",
    "# and ease of use make it an essential tool for data analysts, scientists, and engineers working with structured data in Python.\n"
   ]
  },
  {
   "cell_type": "markdown",
   "id": "97ba38f8",
   "metadata": {},
   "source": [
    "# What can you do using Pandas?"
   ]
  },
  {
   "cell_type": "code",
   "execution_count": 2,
   "id": "21c7826e",
   "metadata": {},
   "outputs": [],
   "source": [
    "# Pandas are generally used for data science but have you wondered why? This is because pandas are used in conjunction with other \n",
    "# libraries that are used for data science. It is built on the top of the NumPy library which means that a lot of structures of \n",
    "# NumPy are used or replicated in Pandas. The data produced by Pandas are often used as input for plotting functions of \n",
    "# Matplotlib, statistical analysis in SciPy, and machine learning algorithms in Scikit-learn. Here is a list of things that we \n",
    "# can do using Pandas\n",
    "\n",
    "# Data set cleaning, merging, and joining.\n",
    "# Easy handling of missing data (represented as NaN) in floating point as well as non-floating point data.\n",
    "# Columns can be inserted and deleted from DataFrame and higher dimensional objects.\n",
    "# Powerful group by functionality for performing split-apply-combine operations on data sets.\n",
    "# Data Visulaization"
   ]
  },
  {
   "cell_type": "code",
   "execution_count": 3,
   "id": "8bc18a30",
   "metadata": {},
   "outputs": [],
   "source": [
    "# Install and Import\n",
    "# pip install pandas\n",
    "# import pandas as pd"
   ]
  },
  {
   "cell_type": "markdown",
   "id": "737e28fb",
   "metadata": {},
   "source": [
    "# Type of data Structures"
   ]
  },
  {
   "cell_type": "markdown",
   "id": "0d2a2412",
   "metadata": {},
   "source": [
    "# (1). Series:-"
   ]
  },
  {
   "cell_type": "code",
   "execution_count": 4,
   "id": "8ed3c97c",
   "metadata": {},
   "outputs": [
    {
     "name": "stdout",
     "output_type": "stream",
     "text": [
      "Pandas Series:  Series([], dtype: object)\n",
      "Pandas Series:\n",
      " 0    v\n",
      "1    i\n",
      "2    k\n",
      "3    a\n",
      "4    s\n",
      "dtype: object\n"
     ]
    }
   ],
   "source": [
    "#  A Pandas Series is a one-dimensional labeled array capable of holding data of any type (integer, string, float,\n",
    "# python objects, etc.). The axis labels are collectively called indexes.\n",
    "# Pandas Series is nothing but a column in an Excel sheet. Labels need not be unique but must be a hashable type. The object \n",
    "# supports both integer and label-based indexing and provides a host of methods for performing operations involving the index.\n",
    "\n",
    "\n",
    "\n",
    "\n",
    "#Creating a Series:-\n",
    "import pandas as pd \n",
    "import numpy as np\n",
    " \n",
    "ser = pd.Series() \n",
    "print(\"Pandas Series: \", ser) \n",
    " \n",
    "# simple array \n",
    "data = np.array(['v', 'i', 'k', 'a', 's']) \n",
    "   \n",
    "ser = pd.Series(data) \n",
    "print(\"Pandas Series:\\n\", ser)"
   ]
  },
  {
   "cell_type": "code",
   "execution_count": 5,
   "id": "a2ce7654",
   "metadata": {},
   "outputs": [
    {
     "name": "stdout",
     "output_type": "stream",
     "text": [
      "0    g\n",
      "1    e\n",
      "2    e\n",
      "3    k\n",
      "4    s\n",
      "dtype: object\n"
     ]
    }
   ],
   "source": [
    "# Accessing element of Series:-\n",
    "# There are two ways through which we can access element of series, they are :\n",
    "\n",
    "# Accessing Element from Series with Position\n",
    "# Accessing Element Using Label (index)\n",
    "\n",
    "\n",
    "\n",
    "# Accessing Element from Series with Position : In order to access the series element refers to the index number. Use the index \n",
    "# operator [ ] to access an element in a series. The index must be an integer. In order to access multiple elements from a series,\n",
    "# we use Slice operation.\n",
    "\n",
    "# Accessing first 5 elements of Series:-\n",
    "import pandas as pd\n",
    "import numpy as np\n",
    " \n",
    "# creating simple array\n",
    "data = np.array(['g','e','e','k','s','f', 'o','r','g','e','e','k','s'])\n",
    "ser = pd.Series(data)\n",
    "  \n",
    "  \n",
    "#retrieve the first element\n",
    "print(ser[:5])\n"
   ]
  },
  {
   "cell_type": "code",
   "execution_count": 6,
   "id": "1f68b347",
   "metadata": {},
   "outputs": [
    {
     "name": "stdout",
     "output_type": "stream",
     "text": [
      "s\n"
     ]
    }
   ],
   "source": [
    "# Accessing Element Using Label (index) :\n",
    "# In order to access an element from series, we have to set values by index label. A Series is like a fixed-size dictionary in \n",
    "# that you can get and set values by index label.\n",
    "\n",
    "# Accessing a single element using index label:-\n",
    "\n",
    "# creating simple array\n",
    "data = np.array(['g','e','e','k','s','f', 'o','r','g','e','e','k','s'])\n",
    "ser = pd.Series(data,index=[10,11,12,13,14,15,16,17,18,19,20,21,22])\n",
    "  \n",
    "  \n",
    "# accessing a element using index element\n",
    "print(ser[14])"
   ]
  },
  {
   "cell_type": "markdown",
   "id": "104cdf13",
   "metadata": {},
   "source": [
    "# Binary Operation on Series"
   ]
  },
  {
   "cell_type": "code",
   "execution_count": 7,
   "id": "24e707d9",
   "metadata": {},
   "outputs": [
    {
     "name": "stdout",
     "output_type": "stream",
     "text": [
      "a    5\n",
      "b    2\n",
      "c    3\n",
      "d    7\n",
      "dtype: int64 \n",
      "\n",
      " a    1\n",
      "b    6\n",
      "d    4\n",
      "e    9\n",
      "dtype: int64\n"
     ]
    }
   ],
   "source": [
    "# We can perform binary operation on series like addition, subtraction and many other operation. In order to perform binary\n",
    "# operation on series we have to use some function like .add(),.sub() etc..\n",
    "# creating a series\n",
    "data = pd.Series([5, 2, 3,7], index=['a', 'b', 'c', 'd'])\n",
    " \n",
    "# creating a series\n",
    "data1 = pd.Series([1, 6, 4, 9], index=['a', 'b', 'd', 'e'])\n",
    " \n",
    "print(data, \"\\n\\n\", data1)"
   ]
  },
  {
   "cell_type": "code",
   "execution_count": 8,
   "id": "43651305",
   "metadata": {},
   "outputs": [
    {
     "data": {
      "text/plain": [
       "a     6.0\n",
       "b     8.0\n",
       "c     3.0\n",
       "d    11.0\n",
       "e     9.0\n",
       "dtype: float64"
      ]
     },
     "execution_count": 8,
     "metadata": {},
     "output_type": "execute_result"
    }
   ],
   "source": [
    "#adding two series:-\n",
    "data.add(data1, fill_value=0)"
   ]
  },
  {
   "cell_type": "code",
   "execution_count": 9,
   "id": "8c4d3aaa",
   "metadata": {},
   "outputs": [
    {
     "data": {
      "text/plain": [
       "a    4.0\n",
       "b   -4.0\n",
       "c    3.0\n",
       "d    3.0\n",
       "e   -9.0\n",
       "dtype: float64"
      ]
     },
     "execution_count": 9,
     "metadata": {},
     "output_type": "execute_result"
    }
   ],
   "source": [
    "# Subtracting Two series:-\n",
    "data.sub(data1, fill_value=0)"
   ]
  },
  {
   "cell_type": "markdown",
   "id": "168ae451",
   "metadata": {},
   "source": [
    "# Conversion Operation on Series"
   ]
  },
  {
   "cell_type": "code",
   "execution_count": 10,
   "id": "dcc77b4c",
   "metadata": {},
   "outputs": [],
   "source": [
    "# In conversion operation we perform various operation like changing datatype of series, changing a series to list etc. In order\n",
    "# to perform conversion operation we have various function which help in conversion like .astype(), .tolist()\n",
    "# etc."
   ]
  },
  {
   "cell_type": "code",
   "execution_count": 11,
   "id": "4f67b06b",
   "metadata": {},
   "outputs": [
    {
     "name": "stdout",
     "output_type": "stream",
     "text": [
      "BEFORE CONVERSION\n",
      " age            int64\n",
      "gender        object\n",
      "fever        float64\n",
      "cough         object\n",
      "city          object\n",
      "has_covid     object\n",
      "dtype: object \n",
      "\n",
      "AFTER CONVERSION\n",
      " age            int32\n",
      "gender        object\n",
      "fever        float64\n",
      "cough         object\n",
      "city          object\n",
      "has_covid     object\n",
      "dtype: object \n",
      "\n"
     ]
    }
   ],
   "source": [
    "# Python program using astype to convert a datatype of series:-\n",
    " \n",
    "# importing pandas module  \n",
    "import pandas as pd \n",
    "   \n",
    "# reading csv file from url  \n",
    "data = pd.read_csv(\"D:/All Data of class/covid_toy.csv\") \n",
    "    \n",
    "# dropping null value columns to avoid errors \n",
    "data.dropna(inplace = True) \n",
    "   \n",
    "# storing dtype before converting \n",
    "before = data.dtypes \n",
    "   \n",
    "# converting dtypes using astype \n",
    "data[\"has_covid\"]= data[\"has_covid\"].astype(str) \n",
    "data[\"age\"]= data[\"age\"].astype(int) \n",
    "   \n",
    "# storing dtype after converting \n",
    "after = data.dtypes \n",
    "   \n",
    "# printing to compare \n",
    "print(\"BEFORE CONVERSION\\n\", before, \"\\n\") \n",
    "print(\"AFTER CONVERSION\\n\", after, \"\\n\") "
   ]
  },
  {
   "cell_type": "code",
   "execution_count": 12,
   "id": "645bb686",
   "metadata": {},
   "outputs": [
    {
     "name": "stdout",
     "output_type": "stream",
     "text": [
      "Data type before converting = <class 'pandas.core.series.Series'>\n",
      "Data type after converting = <class 'list'>\n"
     ]
    },
    {
     "data": {
      "text/plain": [
       "['No',\n",
       " 'Yes',\n",
       " 'No',\n",
       " 'No',\n",
       " 'No',\n",
       " 'No',\n",
       " 'No',\n",
       " 'No',\n",
       " 'Yes',\n",
       " 'No',\n",
       " 'Yes',\n",
       " 'No',\n",
       " 'Yes',\n",
       " 'Yes',\n",
       " 'No',\n",
       " 'Yes',\n",
       " 'No',\n",
       " 'Yes',\n",
       " 'Yes',\n",
       " 'Yes',\n",
       " 'No',\n",
       " 'Yes',\n",
       " 'No',\n",
       " 'No',\n",
       " 'Yes',\n",
       " 'No',\n",
       " 'Yes',\n",
       " 'No',\n",
       " 'Yes',\n",
       " 'No',\n",
       " 'No',\n",
       " 'No',\n",
       " 'Yes',\n",
       " 'No',\n",
       " 'No',\n",
       " 'Yes',\n",
       " 'Yes',\n",
       " 'No',\n",
       " 'No',\n",
       " 'No',\n",
       " 'No',\n",
       " 'No',\n",
       " 'No',\n",
       " 'Yes',\n",
       " 'Yes',\n",
       " 'Yes',\n",
       " 'Yes',\n",
       " 'Yes',\n",
       " 'Yes',\n",
       " 'No',\n",
       " 'Yes',\n",
       " 'Yes',\n",
       " 'Yes',\n",
       " 'No',\n",
       " 'Yes',\n",
       " 'No',\n",
       " 'No',\n",
       " 'No',\n",
       " 'No',\n",
       " 'No',\n",
       " 'No',\n",
       " 'No',\n",
       " 'No',\n",
       " 'No',\n",
       " 'No',\n",
       " 'Yes',\n",
       " 'No',\n",
       " 'Yes',\n",
       " 'Yes',\n",
       " 'No',\n",
       " 'Yes',\n",
       " 'Yes',\n",
       " 'Yes',\n",
       " 'No',\n",
       " 'Yes',\n",
       " 'No',\n",
       " 'No',\n",
       " 'Yes',\n",
       " 'Yes',\n",
       " 'No',\n",
       " 'No',\n",
       " 'No',\n",
       " 'No',\n",
       " 'No',\n",
       " 'Yes',\n",
       " 'No',\n",
       " 'Yes',\n",
       " 'No',\n",
       " 'No',\n",
       " 'Yes']"
      ]
     },
     "execution_count": 12,
     "metadata": {},
     "output_type": "execute_result"
    }
   ],
   "source": [
    "# Python program converting a series into list:-\n",
    "# importing regex module \n",
    "import re \n",
    "     \n",
    "# making data frame  \n",
    "data = pd.read_csv(\"D:/All Data of class/covid_toy.csv\")  \n",
    "     \n",
    "# removing null values to avoid errors  \n",
    "data.dropna(inplace = True)  \n",
    "   \n",
    "# storing dtype before operation \n",
    "dtype_before = type(data[\"has_covid\"]) \n",
    "   \n",
    "# converting to list \n",
    "covid_list = data[\"has_covid\"].tolist() \n",
    "   \n",
    "# storing dtype after operation \n",
    "dtype_after = type(covid_list) \n",
    "   \n",
    "# printing dtype \n",
    "print(\"Data type before converting = {}\\nData type after converting = {}\"\n",
    "      .format(dtype_before, dtype_after)) \n",
    "   \n",
    "# displaying list \n",
    "covid_list "
   ]
  },
  {
   "cell_type": "markdown",
   "id": "cfe46951",
   "metadata": {},
   "source": [
    "# Binary operation methods on series:"
   ]
  },
  {
   "cell_type": "code",
   "execution_count": 13,
   "id": "a77537a6",
   "metadata": {},
   "outputs": [],
   "source": [
    "# FUNCTION           \tDESCRIPTION\n",
    "\n",
    "# add()\t           Method is used to add series or list like objects with same length to the caller series\n",
    "# sub()\t           Method is used to subtract series or list like objects with same length from the caller series\n",
    "# mul()\t           Method is used to multiply series or list like objects with same length with the caller series\n",
    "# div()\t           Method is used to divide series or list like objects with same length by the caller series\n",
    "# sum()          \tReturns the sum of the values for the requested axis\n",
    "# prod()       \tReturns the product of the values for the requested axis\n",
    "# mean()      \tReturns the mean of the values for the requested axis\n",
    "# pow()      \tMethod is used to put each element of passed series as exponential power of caller series and returned the results\n",
    "# abs()\t        Method is used to get the absolute numeric value of each element in Series/DataFrame\n",
    "# cov()\t        Method is used to find covariance of two series\n",
    " "
   ]
  },
  {
   "cell_type": "markdown",
   "id": "bb3c9ebf",
   "metadata": {},
   "source": [
    "# Pandas series method:"
   ]
  },
  {
   "cell_type": "code",
   "execution_count": 14,
   "id": "61f0444c",
   "metadata": {},
   "outputs": [],
   "source": [
    "# FUNCTION\t             DESCRIPTION\n",
    "\n",
    "# Series()                 A pandas Series can be created with the Series() constructor method. This constructor method accepts\n",
    "# a variety of inputs\n",
    "\n",
    "\n",
    "# combine_first()\t         Method is used to combine two series into one\n",
    "\n",
    "\n",
    "# count()                \tReturns number of non-NA/null observations in the Series\n",
    "\n",
    "\n",
    "# size()\t                Returns the number of elements in the underlying data\n",
    "\n",
    "\n",
    "# name()\t                Method allows to give a name to a Series object, i.e. to the column \n",
    "\n",
    "\n",
    "# is_unique()\t            Method returns boolean if values in the object are unique\n",
    "\n",
    "\n",
    "# idxmax()\t            Method to extract the index positions of the highest values in a Series\n",
    "\n",
    "\n",
    "# idxmin()\t            Method to extract the index positions of the lowest values in a Series\n",
    "\n",
    "\n",
    "# sort_values()\t        Method is called on a Series to sort the values in ascending or descending order\n",
    "\n",
    "\n",
    "# sort_index()\t        Method is called on a pandas Series to sort it by the index instead of its values\n",
    "\n",
    "\n",
    "# head()\t                Method is used to return a specified number of rows from the beginning of a Series. The method returns \n",
    "# a brand new Series\n",
    "\n",
    "\n",
    "# tail()\t                Method is used to return a specified number of rows from the end of a Series. The method returns a brand\n",
    "# new Series\n",
    "\n",
    "\n",
    "\n",
    "# le()\t                Used to compare every element of Caller series with passed series.It returns True for every element\n",
    "# which is Less than or Equal to the element in passed series\n",
    "\n",
    "\n",
    "\n",
    "# ne()\t                Used to compare every element of Caller series with passed series. It returns True for every element \n",
    "# which is Not Equal to the element in passed series\n",
    "\n",
    "\n",
    "\n",
    "\n",
    "# ge()\t                Used to compare every element of Caller series with passed series. It returns True for every element\n",
    "# which is Greater than or Equal to the element in passed series\n",
    "\n",
    "\n",
    "\n",
    "\n",
    "# eq()\t                Used to compare every element of Caller series with passed series. It returns True for every element\n",
    "# which is Equal to the element in passed series\n",
    "\n",
    "\n",
    "\n",
    "# gt()\t                Used to compare two series and return Boolean value for every respective element\n",
    "\n",
    "\n",
    "# lt()\t                Used to compare two series and return Boolean value for every respective element\n",
    "\n",
    "\n",
    "# clip()\t                Used to clip value below and above to passed Least and Max value\n",
    "\n",
    "\n",
    "# clip_lower()\t        Used to clip values below a passed least value\n",
    "\n",
    "\n",
    "# clip_upper()\t        Used to clip values above a passed maximum value\n",
    "\n",
    "\n",
    "# astype()\t            Method is used to change data type of a series\n",
    "\n",
    "\n",
    "# tolist()\t            Method is used to convert a series to list\n",
    "\n",
    "\n",
    "# get()\t                Method is called on a Series to extract values from a Series. This is alternative syntax to the\n",
    "# traditional bracket syntax\n",
    "\n",
    "\n",
    "\n",
    "# unique()\t            Pandas unique() is used to see the unique values in a particular column\n",
    "\n",
    "\n",
    "# nunique()\t            Pandas nunique() is used to get a count of unique values\n",
    "\n",
    "\n",
    "# value_counts()\t        Method to count the number of the times each unique value occurs in a Series\n",
    "\n",
    "\n",
    "# factorize()\t            Method helps to get the numeric representation of an array by identifying distinct values\n",
    "\n",
    "\n",
    "# map()\t                Method to tie together the values from one object to another\n",
    "\n",
    "\n",
    "# between()\t            Pandas between() method is used on series to check which values lie between first and second argument\n",
    "\n",
    "\n",
    "# apply()\t                Method is called and feeded a Python function as an argument to use the function on every Series value.\n",
    "# This method is helpful for executing custom operations that are not included in pandas or numpy"
   ]
  },
  {
   "cell_type": "code",
   "execution_count": null,
   "id": "78ca5471",
   "metadata": {},
   "outputs": [],
   "source": []
  },
  {
   "cell_type": "code",
   "execution_count": 15,
   "id": "ab07bb27",
   "metadata": {},
   "outputs": [
    {
     "name": "stdout",
     "output_type": "stream",
     "text": [
      "Empty DataFrame\n",
      "Columns: []\n",
      "Index: []\n",
      "          0\n",
      "0     Vikas\n",
      "1        Is\n",
      "2   Student\n",
      "3        of\n",
      "4     Regex\n",
      "5  software\n",
      "6        in\n",
      "7    jaipur\n"
     ]
    }
   ],
   "source": [
    "# (2). Data Frame:- Pandas DataFrame is a two-dimensional data structure with labeled axes (rows and columns)\n",
    "    \n",
    "#Creating a Data Frame:-\n",
    "import pandas as pd \n",
    "   \n",
    "# Calling DataFrame constructor \n",
    "df = pd.DataFrame() \n",
    "print(df)\n",
    " \n",
    "# list of strings \n",
    "lst = ['Vikas', 'Is', 'Student', 'of', 'Regex', 'software', 'in', 'jaipur'] \n",
    "   \n",
    "# Calling DataFrame constructor on list \n",
    "df = pd.DataFrame(lst) \n",
    "print(df)"
   ]
  },
  {
   "cell_type": "markdown",
   "id": "a7f80923",
   "metadata": {},
   "source": [
    "# Creating dataframe \n"
   ]
  },
  {
   "cell_type": "code",
   "execution_count": 16,
   "id": "17736759",
   "metadata": {},
   "outputs": [
    {
     "name": "stdout",
     "output_type": "stream",
     "text": [
      "Empty DataFrame\n",
      "Columns: []\n",
      "Index: []\n"
     ]
    }
   ],
   "source": [
    "# Creating an empty dataframe : \n",
    "import pandas as pd\n",
    "df = pd.DataFrame()\n",
    "print(df)"
   ]
  },
  {
   "cell_type": "code",
   "execution_count": 17,
   "id": "21142924",
   "metadata": {},
   "outputs": [
    {
     "data": {
      "text/html": [
       "<div>\n",
       "<style scoped>\n",
       "    .dataframe tbody tr th:only-of-type {\n",
       "        vertical-align: middle;\n",
       "    }\n",
       "\n",
       "    .dataframe tbody tr th {\n",
       "        vertical-align: top;\n",
       "    }\n",
       "\n",
       "    .dataframe thead th {\n",
       "        text-align: right;\n",
       "    }\n",
       "</style>\n",
       "<table border=\"1\" class=\"dataframe\">\n",
       "  <thead>\n",
       "    <tr style=\"text-align: right;\">\n",
       "      <th></th>\n",
       "      <th>0</th>\n",
       "    </tr>\n",
       "  </thead>\n",
       "  <tbody>\n",
       "    <tr>\n",
       "      <th>0</th>\n",
       "      <td>Vikas</td>\n",
       "    </tr>\n",
       "    <tr>\n",
       "      <th>1</th>\n",
       "      <td>Is</td>\n",
       "    </tr>\n",
       "    <tr>\n",
       "      <th>2</th>\n",
       "      <td>Student</td>\n",
       "    </tr>\n",
       "    <tr>\n",
       "      <th>3</th>\n",
       "      <td>of</td>\n",
       "    </tr>\n",
       "    <tr>\n",
       "      <th>4</th>\n",
       "      <td>Regex</td>\n",
       "    </tr>\n",
       "    <tr>\n",
       "      <th>5</th>\n",
       "      <td>software</td>\n",
       "    </tr>\n",
       "    <tr>\n",
       "      <th>6</th>\n",
       "      <td>in</td>\n",
       "    </tr>\n",
       "    <tr>\n",
       "      <th>7</th>\n",
       "      <td>jaipur</td>\n",
       "    </tr>\n",
       "  </tbody>\n",
       "</table>\n",
       "</div>"
      ],
      "text/plain": [
       "          0\n",
       "0     Vikas\n",
       "1        Is\n",
       "2   Student\n",
       "3        of\n",
       "4     Regex\n",
       "5  software\n",
       "6        in\n",
       "7    jaipur"
      ]
     },
     "execution_count": 17,
     "metadata": {},
     "output_type": "execute_result"
    }
   ],
   "source": [
    "#Creating a dataframe using List: \n",
    "list = ['Vikas', 'Is', 'Student', 'of', 'Regex', 'software', 'in', 'jaipur'] \n",
    "\n",
    "df = pd.DataFrame(list)\n",
    "df"
   ]
  },
  {
   "cell_type": "code",
   "execution_count": 18,
   "id": "087d6337",
   "metadata": {},
   "outputs": [
    {
     "name": "stdout",
     "output_type": "stream",
     "text": [
      "      Name  Age\n",
      "0    Vikas   23\n",
      "1  kalpana   21\n",
      "2    punit   17\n",
      "3  Nikita    22\n"
     ]
    }
   ],
   "source": [
    "# Creating DataFrame from dict of ndarray/lists: \n",
    "#initialise data of list.\n",
    "data = {'Name':['Vikas', 'kalpana', 'punit', 'Nikita '], 'Age':[23, 21, 17, 22]}\n",
    " \n",
    "# Create DataFrame\n",
    "df = pd.DataFrame(data)\n",
    " \n",
    "# Print the output.\n",
    "print(df)"
   ]
  },
  {
   "cell_type": "code",
   "execution_count": 19,
   "id": "8d1756d9",
   "metadata": {},
   "outputs": [
    {
     "name": "stdout",
     "output_type": "stream",
     "text": [
      "      name  degree  score\n",
      "0  Vinatak     MBA     90\n",
      "1   pankaj     BCA     40\n",
      "2   sudhir  M.Tech     80\n",
      "3    Virat     MBA     98\n"
     ]
    }
   ],
   "source": [
    "#Create pandas dataframe from lists using dictionary\n",
    "# dictionary of lists\n",
    "dict = {'name':[\"Vinatak\", \"pankaj\", \"sudhir\", \"Virat\"],\n",
    "        'degree': [\"MBA\", \"BCA\", \"M.Tech\", \"MBA\"],\n",
    "        'score':[90, 40, 80, 98]}\n",
    " \n",
    "df = pd.DataFrame(dict)\n",
    " \n",
    "print(df)"
   ]
  },
  {
   "cell_type": "markdown",
   "id": "6d4d83f1",
   "metadata": {},
   "source": [
    "# some basic function :-\n",
    "    "
   ]
  },
  {
   "cell_type": "code",
   "execution_count": 20,
   "id": "f2ef89c7",
   "metadata": {},
   "outputs": [],
   "source": [
    "df = pd.read_csv(\"D:/All Data of class/placement.csv\")"
   ]
  },
  {
   "cell_type": "code",
   "execution_count": 21,
   "id": "ed8063a7",
   "metadata": {},
   "outputs": [
    {
     "data": {
      "text/html": [
       "<div>\n",
       "<style scoped>\n",
       "    .dataframe tbody tr th:only-of-type {\n",
       "        vertical-align: middle;\n",
       "    }\n",
       "\n",
       "    .dataframe tbody tr th {\n",
       "        vertical-align: top;\n",
       "    }\n",
       "\n",
       "    .dataframe thead th {\n",
       "        text-align: right;\n",
       "    }\n",
       "</style>\n",
       "<table border=\"1\" class=\"dataframe\">\n",
       "  <thead>\n",
       "    <tr style=\"text-align: right;\">\n",
       "      <th></th>\n",
       "      <th>cgpa</th>\n",
       "      <th>resume_score</th>\n",
       "      <th>placed</th>\n",
       "    </tr>\n",
       "  </thead>\n",
       "  <tbody>\n",
       "    <tr>\n",
       "      <th>0</th>\n",
       "      <td>8.14</td>\n",
       "      <td>6.52</td>\n",
       "      <td>1</td>\n",
       "    </tr>\n",
       "    <tr>\n",
       "      <th>1</th>\n",
       "      <td>6.17</td>\n",
       "      <td>5.17</td>\n",
       "      <td>0</td>\n",
       "    </tr>\n",
       "    <tr>\n",
       "      <th>2</th>\n",
       "      <td>8.27</td>\n",
       "      <td>8.86</td>\n",
       "      <td>1</td>\n",
       "    </tr>\n",
       "    <tr>\n",
       "      <th>3</th>\n",
       "      <td>6.88</td>\n",
       "      <td>7.27</td>\n",
       "      <td>1</td>\n",
       "    </tr>\n",
       "    <tr>\n",
       "      <th>4</th>\n",
       "      <td>7.52</td>\n",
       "      <td>7.30</td>\n",
       "      <td>1</td>\n",
       "    </tr>\n",
       "  </tbody>\n",
       "</table>\n",
       "</div>"
      ],
      "text/plain": [
       "   cgpa  resume_score  placed\n",
       "0  8.14          6.52       1\n",
       "1  6.17          5.17       0\n",
       "2  8.27          8.86       1\n",
       "3  6.88          7.27       1\n",
       "4  7.52          7.30       1"
      ]
     },
     "execution_count": 21,
     "metadata": {},
     "output_type": "execute_result"
    }
   ],
   "source": [
    "df.head()"
   ]
  },
  {
   "cell_type": "code",
   "execution_count": 22,
   "id": "da3679ca",
   "metadata": {},
   "outputs": [
    {
     "data": {
      "text/html": [
       "<div>\n",
       "<style scoped>\n",
       "    .dataframe tbody tr th:only-of-type {\n",
       "        vertical-align: middle;\n",
       "    }\n",
       "\n",
       "    .dataframe tbody tr th {\n",
       "        vertical-align: top;\n",
       "    }\n",
       "\n",
       "    .dataframe thead th {\n",
       "        text-align: right;\n",
       "    }\n",
       "</style>\n",
       "<table border=\"1\" class=\"dataframe\">\n",
       "  <thead>\n",
       "    <tr style=\"text-align: right;\">\n",
       "      <th></th>\n",
       "      <th>cgpa</th>\n",
       "      <th>resume_score</th>\n",
       "      <th>placed</th>\n",
       "    </tr>\n",
       "  </thead>\n",
       "  <tbody>\n",
       "    <tr>\n",
       "      <th>95</th>\n",
       "      <td>6.33</td>\n",
       "      <td>6.38</td>\n",
       "      <td>0</td>\n",
       "    </tr>\n",
       "    <tr>\n",
       "      <th>96</th>\n",
       "      <td>8.23</td>\n",
       "      <td>7.76</td>\n",
       "      <td>1</td>\n",
       "    </tr>\n",
       "    <tr>\n",
       "      <th>97</th>\n",
       "      <td>6.65</td>\n",
       "      <td>7.78</td>\n",
       "      <td>0</td>\n",
       "    </tr>\n",
       "    <tr>\n",
       "      <th>98</th>\n",
       "      <td>8.14</td>\n",
       "      <td>5.63</td>\n",
       "      <td>1</td>\n",
       "    </tr>\n",
       "    <tr>\n",
       "      <th>99</th>\n",
       "      <td>6.09</td>\n",
       "      <td>6.61</td>\n",
       "      <td>0</td>\n",
       "    </tr>\n",
       "  </tbody>\n",
       "</table>\n",
       "</div>"
      ],
      "text/plain": [
       "    cgpa  resume_score  placed\n",
       "95  6.33          6.38       0\n",
       "96  8.23          7.76       1\n",
       "97  6.65          7.78       0\n",
       "98  8.14          5.63       1\n",
       "99  6.09          6.61       0"
      ]
     },
     "execution_count": 22,
     "metadata": {},
     "output_type": "execute_result"
    }
   ],
   "source": [
    "df.tail()"
   ]
  },
  {
   "cell_type": "code",
   "execution_count": 23,
   "id": "bf747746",
   "metadata": {},
   "outputs": [
    {
     "data": {
      "text/html": [
       "<div>\n",
       "<style scoped>\n",
       "    .dataframe tbody tr th:only-of-type {\n",
       "        vertical-align: middle;\n",
       "    }\n",
       "\n",
       "    .dataframe tbody tr th {\n",
       "        vertical-align: top;\n",
       "    }\n",
       "\n",
       "    .dataframe thead th {\n",
       "        text-align: right;\n",
       "    }\n",
       "</style>\n",
       "<table border=\"1\" class=\"dataframe\">\n",
       "  <thead>\n",
       "    <tr style=\"text-align: right;\">\n",
       "      <th></th>\n",
       "      <th>cgpa</th>\n",
       "      <th>resume_score</th>\n",
       "      <th>placed</th>\n",
       "    </tr>\n",
       "  </thead>\n",
       "  <tbody>\n",
       "    <tr>\n",
       "      <th>count</th>\n",
       "      <td>100.0000</td>\n",
       "      <td>100.000000</td>\n",
       "      <td>100.000000</td>\n",
       "    </tr>\n",
       "    <tr>\n",
       "      <th>mean</th>\n",
       "      <td>6.9422</td>\n",
       "      <td>6.930500</td>\n",
       "      <td>0.500000</td>\n",
       "    </tr>\n",
       "    <tr>\n",
       "      <th>std</th>\n",
       "      <td>1.1192</td>\n",
       "      <td>0.979608</td>\n",
       "      <td>0.502519</td>\n",
       "    </tr>\n",
       "    <tr>\n",
       "      <th>min</th>\n",
       "      <td>5.2700</td>\n",
       "      <td>4.950000</td>\n",
       "      <td>0.000000</td>\n",
       "    </tr>\n",
       "    <tr>\n",
       "      <th>25%</th>\n",
       "      <td>5.9800</td>\n",
       "      <td>6.190000</td>\n",
       "      <td>0.000000</td>\n",
       "    </tr>\n",
       "    <tr>\n",
       "      <th>50%</th>\n",
       "      <td>6.6200</td>\n",
       "      <td>7.055000</td>\n",
       "      <td>0.500000</td>\n",
       "    </tr>\n",
       "    <tr>\n",
       "      <th>75%</th>\n",
       "      <td>8.0450</td>\n",
       "      <td>7.640000</td>\n",
       "      <td>1.000000</td>\n",
       "    </tr>\n",
       "    <tr>\n",
       "      <th>max</th>\n",
       "      <td>9.4000</td>\n",
       "      <td>9.060000</td>\n",
       "      <td>1.000000</td>\n",
       "    </tr>\n",
       "  </tbody>\n",
       "</table>\n",
       "</div>"
      ],
      "text/plain": [
       "           cgpa  resume_score      placed\n",
       "count  100.0000    100.000000  100.000000\n",
       "mean     6.9422      6.930500    0.500000\n",
       "std      1.1192      0.979608    0.502519\n",
       "min      5.2700      4.950000    0.000000\n",
       "25%      5.9800      6.190000    0.000000\n",
       "50%      6.6200      7.055000    0.500000\n",
       "75%      8.0450      7.640000    1.000000\n",
       "max      9.4000      9.060000    1.000000"
      ]
     },
     "execution_count": 23,
     "metadata": {},
     "output_type": "execute_result"
    }
   ],
   "source": [
    "df.describe()"
   ]
  },
  {
   "cell_type": "code",
   "execution_count": 24,
   "id": "b7563767",
   "metadata": {},
   "outputs": [
    {
     "name": "stdout",
     "output_type": "stream",
     "text": [
      "<class 'pandas.core.frame.DataFrame'>\n",
      "RangeIndex: 100 entries, 0 to 99\n",
      "Data columns (total 3 columns):\n",
      " #   Column        Non-Null Count  Dtype  \n",
      "---  ------        --------------  -----  \n",
      " 0   cgpa          100 non-null    float64\n",
      " 1   resume_score  100 non-null    float64\n",
      " 2   placed        100 non-null    int64  \n",
      "dtypes: float64(2), int64(1)\n",
      "memory usage: 2.5 KB\n"
     ]
    }
   ],
   "source": [
    "df.info()"
   ]
  },
  {
   "cell_type": "code",
   "execution_count": 25,
   "id": "7f4ca05c",
   "metadata": {},
   "outputs": [
    {
     "data": {
      "text/plain": [
       "cgpa            float64\n",
       "resume_score    float64\n",
       "placed            int64\n",
       "dtype: object"
      ]
     },
     "execution_count": 25,
     "metadata": {},
     "output_type": "execute_result"
    }
   ],
   "source": [
    "df.dtypes"
   ]
  },
  {
   "cell_type": "code",
   "execution_count": 26,
   "id": "01d1a0df",
   "metadata": {},
   "outputs": [
    {
     "data": {
      "text/plain": [
       "Index(['cgpa', 'resume_score', 'placed'], dtype='object')"
      ]
     },
     "execution_count": 26,
     "metadata": {},
     "output_type": "execute_result"
    }
   ],
   "source": [
    "df.columns"
   ]
  },
  {
   "cell_type": "code",
   "execution_count": 27,
   "id": "03304e95",
   "metadata": {},
   "outputs": [
    {
     "data": {
      "text/html": [
       "<div>\n",
       "<style scoped>\n",
       "    .dataframe tbody tr th:only-of-type {\n",
       "        vertical-align: middle;\n",
       "    }\n",
       "\n",
       "    .dataframe tbody tr th {\n",
       "        vertical-align: top;\n",
       "    }\n",
       "\n",
       "    .dataframe thead th {\n",
       "        text-align: right;\n",
       "    }\n",
       "</style>\n",
       "<table border=\"1\" class=\"dataframe\">\n",
       "  <thead>\n",
       "    <tr style=\"text-align: right;\">\n",
       "      <th></th>\n",
       "      <th>cgpa</th>\n",
       "      <th>resume_score</th>\n",
       "      <th>placed</th>\n",
       "    </tr>\n",
       "  </thead>\n",
       "  <tbody>\n",
       "    <tr>\n",
       "      <th>0</th>\n",
       "      <td>8.14</td>\n",
       "      <td>6.52</td>\n",
       "      <td>1</td>\n",
       "    </tr>\n",
       "    <tr>\n",
       "      <th>1</th>\n",
       "      <td>6.17</td>\n",
       "      <td>5.17</td>\n",
       "      <td>0</td>\n",
       "    </tr>\n",
       "    <tr>\n",
       "      <th>2</th>\n",
       "      <td>8.27</td>\n",
       "      <td>8.86</td>\n",
       "      <td>1</td>\n",
       "    </tr>\n",
       "    <tr>\n",
       "      <th>3</th>\n",
       "      <td>6.88</td>\n",
       "      <td>7.27</td>\n",
       "      <td>1</td>\n",
       "    </tr>\n",
       "    <tr>\n",
       "      <th>4</th>\n",
       "      <td>7.52</td>\n",
       "      <td>7.30</td>\n",
       "      <td>1</td>\n",
       "    </tr>\n",
       "  </tbody>\n",
       "</table>\n",
       "</div>"
      ],
      "text/plain": [
       "   cgpa  resume_score  placed\n",
       "0  8.14          6.52       1\n",
       "1  6.17          5.17       0\n",
       "2  8.27          8.86       1\n",
       "3  6.88          7.27       1\n",
       "4  7.52          7.30       1"
      ]
     },
     "execution_count": 27,
     "metadata": {},
     "output_type": "execute_result"
    }
   ],
   "source": [
    "top_left_corner_df = df.iloc[:5,:3]\n",
    "top_left_corner_df"
   ]
  },
  {
   "cell_type": "code",
   "execution_count": 28,
   "id": "73bc65dd",
   "metadata": {},
   "outputs": [
    {
     "data": {
      "text/plain": [
       "False"
      ]
     },
     "execution_count": 28,
     "metadata": {},
     "output_type": "execute_result"
    }
   ],
   "source": [
    "df.empty"
   ]
  },
  {
   "cell_type": "code",
   "execution_count": 29,
   "id": "02fc11e3",
   "metadata": {},
   "outputs": [],
   "source": [
    "# Drop columns:-\n",
    "df = df.drop(columns =['cgpa'], axis= 1)"
   ]
  },
  {
   "cell_type": "code",
   "execution_count": 30,
   "id": "ee2f0721",
   "metadata": {},
   "outputs": [
    {
     "data": {
      "text/html": [
       "<div>\n",
       "<style scoped>\n",
       "    .dataframe tbody tr th:only-of-type {\n",
       "        vertical-align: middle;\n",
       "    }\n",
       "\n",
       "    .dataframe tbody tr th {\n",
       "        vertical-align: top;\n",
       "    }\n",
       "\n",
       "    .dataframe thead th {\n",
       "        text-align: right;\n",
       "    }\n",
       "</style>\n",
       "<table border=\"1\" class=\"dataframe\">\n",
       "  <thead>\n",
       "    <tr style=\"text-align: right;\">\n",
       "      <th></th>\n",
       "      <th>resume_score</th>\n",
       "      <th>placed</th>\n",
       "    </tr>\n",
       "  </thead>\n",
       "  <tbody>\n",
       "    <tr>\n",
       "      <th>0</th>\n",
       "      <td>6.52</td>\n",
       "      <td>1</td>\n",
       "    </tr>\n",
       "    <tr>\n",
       "      <th>1</th>\n",
       "      <td>5.17</td>\n",
       "      <td>0</td>\n",
       "    </tr>\n",
       "    <tr>\n",
       "      <th>2</th>\n",
       "      <td>8.86</td>\n",
       "      <td>1</td>\n",
       "    </tr>\n",
       "    <tr>\n",
       "      <th>3</th>\n",
       "      <td>7.27</td>\n",
       "      <td>1</td>\n",
       "    </tr>\n",
       "    <tr>\n",
       "      <th>4</th>\n",
       "      <td>7.30</td>\n",
       "      <td>1</td>\n",
       "    </tr>\n",
       "    <tr>\n",
       "      <th>...</th>\n",
       "      <td>...</td>\n",
       "      <td>...</td>\n",
       "    </tr>\n",
       "    <tr>\n",
       "      <th>95</th>\n",
       "      <td>6.38</td>\n",
       "      <td>0</td>\n",
       "    </tr>\n",
       "    <tr>\n",
       "      <th>96</th>\n",
       "      <td>7.76</td>\n",
       "      <td>1</td>\n",
       "    </tr>\n",
       "    <tr>\n",
       "      <th>97</th>\n",
       "      <td>7.78</td>\n",
       "      <td>0</td>\n",
       "    </tr>\n",
       "    <tr>\n",
       "      <th>98</th>\n",
       "      <td>5.63</td>\n",
       "      <td>1</td>\n",
       "    </tr>\n",
       "    <tr>\n",
       "      <th>99</th>\n",
       "      <td>6.61</td>\n",
       "      <td>0</td>\n",
       "    </tr>\n",
       "  </tbody>\n",
       "</table>\n",
       "<p>100 rows × 2 columns</p>\n",
       "</div>"
      ],
      "text/plain": [
       "    resume_score  placed\n",
       "0           6.52       1\n",
       "1           5.17       0\n",
       "2           8.86       1\n",
       "3           7.27       1\n",
       "4           7.30       1\n",
       "..           ...     ...\n",
       "95          6.38       0\n",
       "96          7.76       1\n",
       "97          7.78       0\n",
       "98          5.63       1\n",
       "99          6.61       0\n",
       "\n",
       "[100 rows x 2 columns]"
      ]
     },
     "execution_count": 30,
     "metadata": {},
     "output_type": "execute_result"
    }
   ],
   "source": [
    "df"
   ]
  },
  {
   "cell_type": "code",
   "execution_count": 31,
   "id": "56de90cb",
   "metadata": {},
   "outputs": [],
   "source": [
    "df = pd.read_csv(\"D:/All Data of class/placement.csv\")"
   ]
  },
  {
   "cell_type": "code",
   "execution_count": 32,
   "id": "eb101046",
   "metadata": {},
   "outputs": [
    {
     "data": {
      "text/html": [
       "<div>\n",
       "<style scoped>\n",
       "    .dataframe tbody tr th:only-of-type {\n",
       "        vertical-align: middle;\n",
       "    }\n",
       "\n",
       "    .dataframe tbody tr th {\n",
       "        vertical-align: top;\n",
       "    }\n",
       "\n",
       "    .dataframe thead th {\n",
       "        text-align: right;\n",
       "    }\n",
       "</style>\n",
       "<table border=\"1\" class=\"dataframe\">\n",
       "  <thead>\n",
       "    <tr style=\"text-align: right;\">\n",
       "      <th></th>\n",
       "      <th>cgpa</th>\n",
       "      <th>placed</th>\n",
       "    </tr>\n",
       "  </thead>\n",
       "  <tbody>\n",
       "    <tr>\n",
       "      <th>0</th>\n",
       "      <td>8.14</td>\n",
       "      <td>1</td>\n",
       "    </tr>\n",
       "    <tr>\n",
       "      <th>1</th>\n",
       "      <td>6.17</td>\n",
       "      <td>0</td>\n",
       "    </tr>\n",
       "    <tr>\n",
       "      <th>2</th>\n",
       "      <td>8.27</td>\n",
       "      <td>1</td>\n",
       "    </tr>\n",
       "    <tr>\n",
       "      <th>3</th>\n",
       "      <td>6.88</td>\n",
       "      <td>1</td>\n",
       "    </tr>\n",
       "    <tr>\n",
       "      <th>4</th>\n",
       "      <td>7.52</td>\n",
       "      <td>1</td>\n",
       "    </tr>\n",
       "    <tr>\n",
       "      <th>...</th>\n",
       "      <td>...</td>\n",
       "      <td>...</td>\n",
       "    </tr>\n",
       "    <tr>\n",
       "      <th>95</th>\n",
       "      <td>6.33</td>\n",
       "      <td>0</td>\n",
       "    </tr>\n",
       "    <tr>\n",
       "      <th>96</th>\n",
       "      <td>8.23</td>\n",
       "      <td>1</td>\n",
       "    </tr>\n",
       "    <tr>\n",
       "      <th>97</th>\n",
       "      <td>6.65</td>\n",
       "      <td>0</td>\n",
       "    </tr>\n",
       "    <tr>\n",
       "      <th>98</th>\n",
       "      <td>8.14</td>\n",
       "      <td>1</td>\n",
       "    </tr>\n",
       "    <tr>\n",
       "      <th>99</th>\n",
       "      <td>6.09</td>\n",
       "      <td>0</td>\n",
       "    </tr>\n",
       "  </tbody>\n",
       "</table>\n",
       "<p>100 rows × 2 columns</p>\n",
       "</div>"
      ],
      "text/plain": [
       "    cgpa  placed\n",
       "0   8.14       1\n",
       "1   6.17       0\n",
       "2   8.27       1\n",
       "3   6.88       1\n",
       "4   7.52       1\n",
       "..   ...     ...\n",
       "95  6.33       0\n",
       "96  8.23       1\n",
       "97  6.65       0\n",
       "98  8.14       1\n",
       "99  6.09       0\n",
       "\n",
       "[100 rows x 2 columns]"
      ]
     },
     "execution_count": 32,
     "metadata": {},
     "output_type": "execute_result"
    }
   ],
   "source": [
    "df.filter(items = ['cgpa', 'placed'])"
   ]
  },
  {
   "cell_type": "code",
   "execution_count": 33,
   "id": "ce1374fc",
   "metadata": {},
   "outputs": [
    {
     "data": {
      "text/html": [
       "<div>\n",
       "<style scoped>\n",
       "    .dataframe tbody tr th:only-of-type {\n",
       "        vertical-align: middle;\n",
       "    }\n",
       "\n",
       "    .dataframe tbody tr th {\n",
       "        vertical-align: top;\n",
       "    }\n",
       "\n",
       "    .dataframe thead th {\n",
       "        text-align: right;\n",
       "    }\n",
       "</style>\n",
       "<table border=\"1\" class=\"dataframe\">\n",
       "  <thead>\n",
       "    <tr style=\"text-align: right;\">\n",
       "      <th></th>\n",
       "      <th>cgpa</th>\n",
       "      <th>resume_score</th>\n",
       "      <th>placed</th>\n",
       "    </tr>\n",
       "  </thead>\n",
       "  <tbody>\n",
       "    <tr>\n",
       "      <th>5</th>\n",
       "      <td>8.77</td>\n",
       "      <td>6.19</td>\n",
       "      <td>1</td>\n",
       "    </tr>\n",
       "    <tr>\n",
       "      <th>6</th>\n",
       "      <td>5.34</td>\n",
       "      <td>7.09</td>\n",
       "      <td>0</td>\n",
       "    </tr>\n",
       "    <tr>\n",
       "      <th>7</th>\n",
       "      <td>6.56</td>\n",
       "      <td>6.29</td>\n",
       "      <td>0</td>\n",
       "    </tr>\n",
       "  </tbody>\n",
       "</table>\n",
       "</div>"
      ],
      "text/plain": [
       "   cgpa  resume_score  placed\n",
       "5  8.77          6.19       1\n",
       "6  5.34          7.09       0\n",
       "7  6.56          6.29       0"
      ]
     },
     "execution_count": 33,
     "metadata": {},
     "output_type": "execute_result"
    }
   ],
   "source": [
    "df.filter(items = [5,6,7], axis = 0)"
   ]
  },
  {
   "cell_type": "code",
   "execution_count": 34,
   "id": "c4d5a295",
   "metadata": {},
   "outputs": [
    {
     "data": {
      "text/html": [
       "<div>\n",
       "<style scoped>\n",
       "    .dataframe tbody tr th:only-of-type {\n",
       "        vertical-align: middle;\n",
       "    }\n",
       "\n",
       "    .dataframe tbody tr th {\n",
       "        vertical-align: top;\n",
       "    }\n",
       "\n",
       "    .dataframe thead th {\n",
       "        text-align: right;\n",
       "    }\n",
       "</style>\n",
       "<table border=\"1\" class=\"dataframe\">\n",
       "  <thead>\n",
       "    <tr style=\"text-align: right;\">\n",
       "      <th></th>\n",
       "      <th>Marks</th>\n",
       "      <th>r_marks</th>\n",
       "      <th>placed</th>\n",
       "    </tr>\n",
       "  </thead>\n",
       "  <tbody>\n",
       "    <tr>\n",
       "      <th>0</th>\n",
       "      <td>8.14</td>\n",
       "      <td>6.52</td>\n",
       "      <td>1</td>\n",
       "    </tr>\n",
       "    <tr>\n",
       "      <th>1</th>\n",
       "      <td>6.17</td>\n",
       "      <td>5.17</td>\n",
       "      <td>0</td>\n",
       "    </tr>\n",
       "    <tr>\n",
       "      <th>2</th>\n",
       "      <td>8.27</td>\n",
       "      <td>8.86</td>\n",
       "      <td>1</td>\n",
       "    </tr>\n",
       "    <tr>\n",
       "      <th>3</th>\n",
       "      <td>6.88</td>\n",
       "      <td>7.27</td>\n",
       "      <td>1</td>\n",
       "    </tr>\n",
       "    <tr>\n",
       "      <th>4</th>\n",
       "      <td>7.52</td>\n",
       "      <td>7.30</td>\n",
       "      <td>1</td>\n",
       "    </tr>\n",
       "    <tr>\n",
       "      <th>...</th>\n",
       "      <td>...</td>\n",
       "      <td>...</td>\n",
       "      <td>...</td>\n",
       "    </tr>\n",
       "    <tr>\n",
       "      <th>95</th>\n",
       "      <td>6.33</td>\n",
       "      <td>6.38</td>\n",
       "      <td>0</td>\n",
       "    </tr>\n",
       "    <tr>\n",
       "      <th>96</th>\n",
       "      <td>8.23</td>\n",
       "      <td>7.76</td>\n",
       "      <td>1</td>\n",
       "    </tr>\n",
       "    <tr>\n",
       "      <th>97</th>\n",
       "      <td>6.65</td>\n",
       "      <td>7.78</td>\n",
       "      <td>0</td>\n",
       "    </tr>\n",
       "    <tr>\n",
       "      <th>98</th>\n",
       "      <td>8.14</td>\n",
       "      <td>5.63</td>\n",
       "      <td>1</td>\n",
       "    </tr>\n",
       "    <tr>\n",
       "      <th>99</th>\n",
       "      <td>6.09</td>\n",
       "      <td>6.61</td>\n",
       "      <td>0</td>\n",
       "    </tr>\n",
       "  </tbody>\n",
       "</table>\n",
       "<p>100 rows × 3 columns</p>\n",
       "</div>"
      ],
      "text/plain": [
       "    Marks  r_marks  placed\n",
       "0    8.14     6.52       1\n",
       "1    6.17     5.17       0\n",
       "2    8.27     8.86       1\n",
       "3    6.88     7.27       1\n",
       "4    7.52     7.30       1\n",
       "..    ...      ...     ...\n",
       "95   6.33     6.38       0\n",
       "96   8.23     7.76       1\n",
       "97   6.65     7.78       0\n",
       "98   8.14     5.63       1\n",
       "99   6.09     6.61       0\n",
       "\n",
       "[100 rows x 3 columns]"
      ]
     },
     "execution_count": 34,
     "metadata": {},
     "output_type": "execute_result"
    }
   ],
   "source": [
    "# rename of columns:-\n",
    "df.rename(columns = {'cgpa':'Marks',\n",
    "                    'resume_score':'r_marks'})"
   ]
  },
  {
   "cell_type": "code",
   "execution_count": 35,
   "id": "27829b41",
   "metadata": {},
   "outputs": [
    {
     "data": {
      "text/html": [
       "<div>\n",
       "<style scoped>\n",
       "    .dataframe tbody tr th:only-of-type {\n",
       "        vertical-align: middle;\n",
       "    }\n",
       "\n",
       "    .dataframe tbody tr th {\n",
       "        vertical-align: top;\n",
       "    }\n",
       "\n",
       "    .dataframe thead th {\n",
       "        text-align: right;\n",
       "    }\n",
       "</style>\n",
       "<table border=\"1\" class=\"dataframe\">\n",
       "  <thead>\n",
       "    <tr style=\"text-align: right;\">\n",
       "      <th></th>\n",
       "      <th>cgpa</th>\n",
       "      <th>resume_score</th>\n",
       "      <th>placed</th>\n",
       "      <th>new_resume</th>\n",
       "    </tr>\n",
       "  </thead>\n",
       "  <tbody>\n",
       "    <tr>\n",
       "      <th>0</th>\n",
       "      <td>8.14</td>\n",
       "      <td>6.52</td>\n",
       "      <td>1</td>\n",
       "      <td>6.52</td>\n",
       "    </tr>\n",
       "    <tr>\n",
       "      <th>1</th>\n",
       "      <td>6.17</td>\n",
       "      <td>5.17</td>\n",
       "      <td>0</td>\n",
       "      <td>5.17</td>\n",
       "    </tr>\n",
       "    <tr>\n",
       "      <th>2</th>\n",
       "      <td>8.27</td>\n",
       "      <td>8.86</td>\n",
       "      <td>1</td>\n",
       "      <td>8.86</td>\n",
       "    </tr>\n",
       "    <tr>\n",
       "      <th>3</th>\n",
       "      <td>6.88</td>\n",
       "      <td>7.27</td>\n",
       "      <td>1</td>\n",
       "      <td>7.27</td>\n",
       "    </tr>\n",
       "    <tr>\n",
       "      <th>4</th>\n",
       "      <td>7.52</td>\n",
       "      <td>7.30</td>\n",
       "      <td>1</td>\n",
       "      <td>7.30</td>\n",
       "    </tr>\n",
       "    <tr>\n",
       "      <th>...</th>\n",
       "      <td>...</td>\n",
       "      <td>...</td>\n",
       "      <td>...</td>\n",
       "      <td>...</td>\n",
       "    </tr>\n",
       "    <tr>\n",
       "      <th>95</th>\n",
       "      <td>6.33</td>\n",
       "      <td>6.38</td>\n",
       "      <td>0</td>\n",
       "      <td>6.38</td>\n",
       "    </tr>\n",
       "    <tr>\n",
       "      <th>96</th>\n",
       "      <td>8.23</td>\n",
       "      <td>7.76</td>\n",
       "      <td>1</td>\n",
       "      <td>7.76</td>\n",
       "    </tr>\n",
       "    <tr>\n",
       "      <th>97</th>\n",
       "      <td>6.65</td>\n",
       "      <td>7.78</td>\n",
       "      <td>0</td>\n",
       "      <td>7.78</td>\n",
       "    </tr>\n",
       "    <tr>\n",
       "      <th>98</th>\n",
       "      <td>8.14</td>\n",
       "      <td>5.63</td>\n",
       "      <td>1</td>\n",
       "      <td>5.63</td>\n",
       "    </tr>\n",
       "    <tr>\n",
       "      <th>99</th>\n",
       "      <td>6.09</td>\n",
       "      <td>6.61</td>\n",
       "      <td>0</td>\n",
       "      <td>6.61</td>\n",
       "    </tr>\n",
       "  </tbody>\n",
       "</table>\n",
       "<p>100 rows × 4 columns</p>\n",
       "</div>"
      ],
      "text/plain": [
       "    cgpa  resume_score  placed  new_resume\n",
       "0   8.14          6.52       1        6.52\n",
       "1   6.17          5.17       0        5.17\n",
       "2   8.27          8.86       1        8.86\n",
       "3   6.88          7.27       1        7.27\n",
       "4   7.52          7.30       1        7.30\n",
       "..   ...           ...     ...         ...\n",
       "95  6.33          6.38       0        6.38\n",
       "96  8.23          7.76       1        7.76\n",
       "97  6.65          7.78       0        7.78\n",
       "98  8.14          5.63       1        5.63\n",
       "99  6.09          6.61       0        6.61\n",
       "\n",
       "[100 rows x 4 columns]"
      ]
     },
     "execution_count": 35,
     "metadata": {},
     "output_type": "execute_result"
    }
   ],
   "source": [
    "df['new_resume'] = df['resume_score'].where(df['resume_score']>5 , other = 0)\n",
    "df"
   ]
  },
  {
   "cell_type": "markdown",
   "id": "437574f9",
   "metadata": {},
   "source": [
    "# Pandas Extracting rows using .loc[]"
   ]
  },
  {
   "cell_type": "code",
   "execution_count": 36,
   "id": "fc2d70df",
   "metadata": {},
   "outputs": [],
   "source": [
    "# Python is a great language for doing data analysis, primarily because of the fantastic ecosystem of data-centric Python packages\n",
    "# . Pandas is one of those packages and makes importing and analyzing data much easier.Pandas provide a unique method to retrieve\n",
    "# rows from a Data frame. DataFrame.loc[] method is a method that takes only index labels and returns row or dataframe if the \n",
    "# index label exists in the caller data frame.\n",
    "\n",
    "\n",
    "# For single row:- \n"
   ]
  },
  {
   "cell_type": "code",
   "execution_count": null,
   "id": "67fc138c",
   "metadata": {},
   "outputs": [],
   "source": []
  },
  {
   "cell_type": "code",
   "execution_count": null,
   "id": "b18db412",
   "metadata": {},
   "outputs": [],
   "source": []
  },
  {
   "cell_type": "code",
   "execution_count": null,
   "id": "910b4659",
   "metadata": {},
   "outputs": [],
   "source": []
  }
 ],
 "metadata": {
  "kernelspec": {
   "display_name": "Python 3 (ipykernel)",
   "language": "python",
   "name": "python3"
  },
  "language_info": {
   "codemirror_mode": {
    "name": "ipython",
    "version": 3
   },
   "file_extension": ".py",
   "mimetype": "text/x-python",
   "name": "python",
   "nbconvert_exporter": "python",
   "pygments_lexer": "ipython3",
   "version": "3.11.5"
  }
 },
 "nbformat": 4,
 "nbformat_minor": 5
}
