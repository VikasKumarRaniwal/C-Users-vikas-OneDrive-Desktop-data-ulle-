{
 "cells": [
  {
   "cell_type": "markdown",
   "id": "d16a97d5",
   "metadata": {},
   "source": [
    "# Python Numpy"
   ]
  },
  {
   "cell_type": "code",
   "execution_count": 1,
   "id": "42a5ce57",
   "metadata": {},
   "outputs": [],
   "source": [
    "# What is NumPy? \n",
    "# NumPy is a general-purpose array-processing package. It provides a high-performance multidimensional array object and tools for\n",
    "# working with these arrays. It is the fundamental package for scientific computing with Python. It is open-source software."
   ]
  },
  {
   "cell_type": "code",
   "execution_count": 2,
   "id": "8af4ae92",
   "metadata": {},
   "outputs": [],
   "source": [
    "# Install NumPy\n",
    "# !pip install numpy"
   ]
  },
  {
   "cell_type": "code",
   "execution_count": 3,
   "id": "7b1955f1",
   "metadata": {},
   "outputs": [],
   "source": [
    "# How to import numpy\n",
    "import numpy as np"
   ]
  },
  {
   "cell_type": "markdown",
   "id": "e9e00300",
   "metadata": {},
   "source": [
    "# NumPy Array"
   ]
  },
  {
   "cell_type": "code",
   "execution_count": 4,
   "id": "0b9fbc02",
   "metadata": {},
   "outputs": [],
   "source": [
    "# It is a table of elements (usually numbers), all of the same type, indexed by a tuple of positive integers.\n",
    "# In NumPy, dimensions are called axes. The number of axes is rank.\n",
    "# NumPy array class is called ndarray. It is also known by the alias array."
   ]
  },
  {
   "cell_type": "code",
   "execution_count": 5,
   "id": "452dd14b",
   "metadata": {},
   "outputs": [
    {
     "name": "stdout",
     "output_type": "stream",
     "text": [
      "One D array: [1 2 3 4]\n",
      " \n",
      "2D array: [[1 2 3 4]\n",
      " [5 6 7 8]]\n",
      "\n",
      "3D array: [['A' 'B' 'C' 'D']\n",
      " ['1' '2' '3' '4']\n",
      " ['@' '1' 'USER' '%']]\n"
     ]
    }
   ],
   "source": [
    "#Create Array\n",
    "a = np.array([1,2,3,4])\n",
    "print(\"One D array:\",a)\n",
    "\n",
    "print(\" \")\n",
    "\n",
    "b = np.array([[1,2,3,4],[5,6,7,8]])\n",
    "print(\"2D array:\",b)\n",
    "\n",
    "print('')\n",
    "\n",
    "c = np.array([['A','B','C','D'],[1,2,3,4],['@',1,'USER','%']])\n",
    "print(\"3D array:\",c)"
   ]
  },
  {
   "cell_type": "code",
   "execution_count": 6,
   "id": "b98eba73",
   "metadata": {},
   "outputs": [
    {
     "name": "stdout",
     "output_type": "stream",
     "text": [
      "Array is of type:  <class 'numpy.ndarray'>\n",
      "No. of dimensions:  2\n",
      "Shape of array:  (2, 3)\n",
      "Size of array:  6\n",
      "Array stores elements of type:  int32\n"
     ]
    }
   ],
   "source": [
    "# Example of numpy array\n",
    "import numpy as np \n",
    "\n",
    "# Creating array object \n",
    "array = np.array( [[ 1, 2, 3], \n",
    "                [ 4, 2, 5]] ) \n",
    " \n",
    "print(\"Array is of type: \", type(array)) #type of array \n",
    " \n",
    "print(\"No. of dimensions: \", array.ndim) #array dimensions (axes)\n",
    "\n",
    "print(\"Shape of array: \", array.shape) #shape of array\n",
    "\n",
    "print(\"Size of array: \", array.size) #size of array\n",
    "\n",
    "print(\"Array stores elements of type: \", array.dtype)  #type of element\n"
   ]
  },
  {
   "cell_type": "code",
   "execution_count": 7,
   "id": "2af82d04",
   "metadata": {},
   "outputs": [
    {
     "name": "stdout",
     "output_type": "stream",
     "text": [
      "For array a\n",
      "Array is of type:  <class 'numpy.ndarray'>\n",
      "No. of dimensions:  1\n",
      "Shape of array:  (4,)\n",
      "Size of array:  4\n",
      "For array b\n",
      "Array is of type:  <class 'numpy.ndarray'>\n",
      "No. of dimensions:  2\n",
      "Shape of array:  (2, 4)\n",
      "Size of array:  8\n",
      "For array c\n",
      "Array is of type:  <class 'numpy.ndarray'>\n",
      "No. of dimensions:  2\n",
      "Shape of array:  (3, 4)\n",
      "Size of array:  12\n"
     ]
    }
   ],
   "source": [
    "#Let's check these step for array a, b, c:-\n",
    "print('For array a')\n",
    "\n",
    "print(\"Array is of type: \", type(a)) #type of array \n",
    " \n",
    "print(\"No. of dimensions: \", a.ndim) #array dimensions (axes)\n",
    "\n",
    "print(\"Shape of array: \", a.shape) #shape of array\n",
    "\n",
    "print(\"Size of array: \", a.size)\n",
    "\n",
    "print('For array b')\n",
    "\n",
    "print(\"Array is of type: \", type(b)) #type of array \n",
    " \n",
    "print(\"No. of dimensions: \", b.ndim) #array dimensions (axes)\n",
    "\n",
    "print(\"Shape of array: \", b.shape) #shape of array\n",
    "\n",
    "print(\"Size of array: \", b.size)\n",
    "\n",
    "print('For array c')\n",
    "\n",
    "print(\"Array is of type: \", type(c)) #type of array \n",
    " \n",
    "print(\"No. of dimensions: \", c.ndim) #array dimensions (axes)\n",
    "\n",
    "print(\"Shape of array: \", c.shape) #shape of array\n",
    "\n",
    "print(\"Size of array: \", c.size)"
   ]
  },
  {
   "cell_type": "markdown",
   "id": "51598a04",
   "metadata": {},
   "source": []
  },
  {
   "cell_type": "code",
   "execution_count": null,
   "id": "fbfa5952",
   "metadata": {},
   "outputs": [],
   "source": []
  },
  {
   "cell_type": "code",
   "execution_count": 8,
   "id": "4594a46b",
   "metadata": {},
   "outputs": [
    {
     "name": "stdout",
     "output_type": "stream",
     "text": [
      "Enter the size of the list : 2\n",
      "Enter the value : 1\n",
      "Enter the value : 2\n",
      "[1, 2]\n"
     ]
    },
    {
     "data": {
      "text/plain": [
       "array([1, 2])"
      ]
     },
     "execution_count": 8,
     "metadata": {},
     "output_type": "execute_result"
    }
   ],
   "source": [
    "#A program of create 1D array.\n",
    "a = []\n",
    "size = int(input(\"Enter the size of the list : \"))\n",
    "for i in range(size):\n",
    "    val = int(input(\"Enter the value : \"))\n",
    "    a.append(val)\n",
    "print(a)\n",
    "b = np.array(a)\n",
    "b"
   ]
  },
  {
   "cell_type": "code",
   "execution_count": 9,
   "id": "66180809",
   "metadata": {},
   "outputs": [
    {
     "name": "stdout",
     "output_type": "stream",
     "text": [
      "Enter the size of the list: 4\n",
      "Enter a value: 1\n",
      "Enter a value: 2\n",
      "Enter a value: 3\n",
      "Enter a value: 4\n",
      "Enter the number of rows in the 2D array: 2\n",
      "Original list: [1, 2, 3, 4]\n",
      "Converted 2D array:\n",
      "[[1 2]\n",
      " [3 4]]\n"
     ]
    }
   ],
   "source": [
    "# For 2 Dimensoins.\n",
    "\n",
    "size = int(input(\"Enter the size of the list: \"))\n",
    "\n",
    "a = []\n",
    "\n",
    "for i in range(size):\n",
    "    val = int(input(\"Enter a value: \"))\n",
    "    a.append(val)\n",
    "\n",
    "b = np.array(a)\n",
    "\n",
    "rows = int(input(\"Enter the number of rows in the 2D array: \"))\n",
    "cols = len(b) // rows\n",
    "\n",
    "b = b.reshape(rows, cols)\n",
    "\n",
    "print(\"Original list:\", a)\n",
    "print(\"Converted 2D array:\")\n",
    "print(b)\n"
   ]
  },
  {
   "cell_type": "code",
   "execution_count": 10,
   "id": "69e9afc6",
   "metadata": {},
   "outputs": [
    {
     "name": "stdout",
     "output_type": "stream",
     "text": [
      "Enter the number of rows: 2\n",
      "Enter the number of columns: 2\n",
      "Enter the depth: 2\n",
      "Enter a value for position 1: 1\n",
      "Enter a value for position 2: 2\n",
      "Enter a value for position 3: 3\n",
      "Enter a value for position 4: 4\n",
      "Enter a value for position 5: 5\n",
      "Enter a value for position 6: 6\n",
      "Enter a value for position 7: 7\n",
      "Enter a value for position 8: 8\n",
      "Original list: [1, 2, 3, 4, 5, 6, 7, 8]\n",
      "Converted 3D array:\n",
      "[[[1 2]\n",
      "  [3 4]]\n",
      "\n",
      " [[5 6]\n",
      "  [7 8]]]\n"
     ]
    }
   ],
   "source": [
    "#For 3D\n",
    "\n",
    "rows = int(input(\"Enter the number of rows: \"))\n",
    "cols = int(input(\"Enter the number of columns: \"))\n",
    "depth = int(input(\"Enter the depth: \"))\n",
    "\n",
    "a = []\n",
    "\n",
    "for i in range(rows * cols * depth):\n",
    "    val = int(input(f\"Enter a value for position {i + 1}: \"))\n",
    "    a.append(val)\n",
    "\n",
    "b = np.array(a)\n",
    "\n",
    "b = b.reshape(rows, cols, depth)\n",
    "\n",
    "print(\"Original list:\", a)\n",
    "print(\"Converted 3D array:\")\n",
    "print(b)\n"
   ]
  },
  {
   "cell_type": "markdown",
   "id": "0cf34e3e",
   "metadata": {},
   "source": [
    "# NumPy Array indexing"
   ]
  },
  {
   "cell_type": "code",
   "execution_count": 11,
   "id": "d862804d",
   "metadata": {},
   "outputs": [],
   "source": [
    "# the basics of NumPy array indexing is important for analyzing and manipulating the array object. NumPy in Python offers many \n",
    "# ways to do array indexing.\n",
    "\n",
    "# Slicing:- Just like lists in Python, NumPy arrays can be sliced. As arrays can be multidimensional, you need to specify a slice\n",
    "# for each dimension of the array.\n",
    "\n",
    "\n",
    "# Integer array indexing:- In this method, lists are passed for indexing for each dimension. One-to-one mapping of corresponding\n",
    "# elements is done to construct a new arbitrary array.\n",
    "\n",
    "# Boolean array indexing:- This method is used when we want to pick elements from the array which satisfy some condition."
   ]
  },
  {
   "cell_type": "code",
   "execution_count": null,
   "id": "3ec56643",
   "metadata": {},
   "outputs": [],
   "source": [
    "\n"
   ]
  },
  {
   "cell_type": "markdown",
   "id": "4e72ab3e",
   "metadata": {},
   "source": [
    "# Array Functions"
   ]
  },
  {
   "cell_type": "code",
   "execution_count": 12,
   "id": "934153a3",
   "metadata": {},
   "outputs": [
    {
     "data": {
      "text/plain": [
       "array([[0., 0., 0.],\n",
       "       [0., 0., 0.],\n",
       "       [0., 0., 0.]])"
      ]
     },
     "execution_count": 12,
     "metadata": {},
     "output_type": "execute_result"
    }
   ],
   "source": [
    "# Zero array = np.zeros()\n",
    "a = np.zeros((3,3))\n",
    "a"
   ]
  },
  {
   "cell_type": "code",
   "execution_count": 13,
   "id": "a3f55f1d",
   "metadata": {},
   "outputs": [
    {
     "data": {
      "text/plain": [
       "array([1., 1., 1., 1., 1.])"
      ]
     },
     "execution_count": 13,
     "metadata": {},
     "output_type": "execute_result"
    }
   ],
   "source": [
    "#Ones = np.ones()\n",
    "a = np.ones(5)\n",
    "a"
   ]
  },
  {
   "cell_type": "code",
   "execution_count": 14,
   "id": "1fd199ff",
   "metadata": {},
   "outputs": [
    {
     "data": {
      "text/plain": [
       "array([[1., 1., 1.],\n",
       "       [1., 1., 1.],\n",
       "       [1., 1., 1.]])"
      ]
     },
     "execution_count": 14,
     "metadata": {},
     "output_type": "execute_result"
    }
   ],
   "source": [
    "a = np.ones((3,3))\n",
    "a"
   ]
  },
  {
   "cell_type": "code",
   "execution_count": 15,
   "id": "9dc934a6",
   "metadata": {},
   "outputs": [
    {
     "data": {
      "text/plain": [
       "2"
      ]
     },
     "execution_count": 15,
     "metadata": {},
     "output_type": "execute_result"
    }
   ],
   "source": [
    "a.ndim"
   ]
  },
  {
   "cell_type": "code",
   "execution_count": 16,
   "id": "d47d889a",
   "metadata": {},
   "outputs": [
    {
     "data": {
      "text/plain": [
       "array([[1., 0., 0., 0.],\n",
       "       [0., 1., 0., 0.],\n",
       "       [0., 0., 1., 0.],\n",
       "       [0., 0., 0., 1.]])"
      ]
     },
     "execution_count": 16,
     "metadata": {},
     "output_type": "execute_result"
    }
   ],
   "source": [
    "#Eyes\n",
    "a = np.eye(4)\n",
    "a"
   ]
  },
  {
   "cell_type": "code",
   "execution_count": 17,
   "id": "c81f564e",
   "metadata": {},
   "outputs": [],
   "source": [
    "# diag ==> This funcrion create a two dimesional array with all the diagonal\n",
    "# elements as the given value and rest are zero"
   ]
  },
  {
   "cell_type": "code",
   "execution_count": 18,
   "id": "d66a99ab",
   "metadata": {},
   "outputs": [
    {
     "data": {
      "text/plain": [
       "array([[2, 0, 0, 0],\n",
       "       [0, 4, 0, 0],\n",
       "       [0, 0, 6, 0],\n",
       "       [0, 0, 0, 8]])"
      ]
     },
     "execution_count": 18,
     "metadata": {},
     "output_type": "execute_result"
    }
   ],
   "source": [
    "a = np.diag([2,4,6,8])\n",
    "a"
   ]
  },
  {
   "cell_type": "code",
   "execution_count": 19,
   "id": "b2d9a969",
   "metadata": {},
   "outputs": [
    {
     "name": "stdout",
     "output_type": "stream",
     "text": [
      "[1 3 1 9 8 1 7 6 8 7 6 9 6 5 2 8 5 9 5 2]\n"
     ]
    }
   ],
   "source": [
    "# Random Function:-\n",
    "\n",
    "# (1). randint() ==> This function is used to generate random number in given\n",
    "# range randint(min_value,max_value,total_number)\n",
    "\n",
    "a = np.random.randint(1,10,20)\n",
    "print(a)"
   ]
  },
  {
   "cell_type": "code",
   "execution_count": 20,
   "id": "dde5e193",
   "metadata": {},
   "outputs": [
    {
     "name": "stdout",
     "output_type": "stream",
     "text": [
      "[0.48717811 0.93422697 0.39910044 0.77985464 0.9304497 ]\n"
     ]
    }
   ],
   "source": [
    "#(2). rand() ==> This function is used to generate random number between 0 to 1.\n",
    "b = np.random.rand(5)\n",
    "print(b)"
   ]
  },
  {
   "cell_type": "code",
   "execution_count": 21,
   "id": "a2244b75",
   "metadata": {},
   "outputs": [
    {
     "data": {
      "text/plain": [
       "array([ 0.29420889, -0.67587344, -1.50597707, -0.57667008, -0.27161416])"
      ]
     },
     "execution_count": 21,
     "metadata": {},
     "output_type": "execute_result"
    }
   ],
   "source": [
    "#(3).randn()==> This functoin is used to generate a random number to -3 to +3. This may\n",
    "# return. positve and negatice number\n",
    "a = np.random.randn(5)\n",
    "a"
   ]
  },
  {
   "cell_type": "code",
   "execution_count": 22,
   "id": "5f187e57",
   "metadata": {},
   "outputs": [
    {
     "name": "stdout",
     "output_type": "stream",
     "text": [
      "[66 94 16  4 75 36 80 49 64 35 86 19 20 52 41 24 98 28 10  3 53 53 53 91\n",
      " 27 70 48 38 54 18 30 68 43 71 19 63]\n",
      "[[66 94 16  4 75 36]\n",
      " [80 49 64 35 86 19]\n",
      " [20 52 41 24 98 28]\n",
      " [10  3 53 53 53 91]\n",
      " [27 70 48 38 54 18]\n",
      " [30 68 43 71 19 63]]\n",
      "\n",
      "[[66 94 16  4]\n",
      " [75 36 80 49]\n",
      " [64 35 86 19]\n",
      " [20 52 41 24]\n",
      " [98 28 10  3]\n",
      " [53 53 53 91]\n",
      " [27 70 48 38]\n",
      " [54 18 30 68]\n",
      " [43 71 19 63]]\n"
     ]
    }
   ],
   "source": [
    "#Reshape:-\n",
    "a = np.random.randint(1,100,36)\n",
    "print(a)\n",
    "\n",
    "print(a.reshape(6,6))\n",
    "\n",
    "print('')\n",
    "print(a.reshape(9,4))"
   ]
  },
  {
   "cell_type": "markdown",
   "id": "f5254a6f",
   "metadata": {},
   "source": [
    "# Principle of -1"
   ]
  },
  {
   "cell_type": "code",
   "execution_count": 23,
   "id": "733a2fd6",
   "metadata": {},
   "outputs": [
    {
     "data": {
      "text/plain": [
       "array([[66, 94, 16,  4],\n",
       "       [75, 36, 80, 49],\n",
       "       [64, 35, 86, 19],\n",
       "       [20, 52, 41, 24],\n",
       "       [98, 28, 10,  3],\n",
       "       [53, 53, 53, 91],\n",
       "       [27, 70, 48, 38],\n",
       "       [54, 18, 30, 68],\n",
       "       [43, 71, 19, 63]])"
      ]
     },
     "execution_count": 23,
     "metadata": {},
     "output_type": "execute_result"
    }
   ],
   "source": [
    "a = a.reshape(-1,4)\n",
    "a"
   ]
  },
  {
   "cell_type": "code",
   "execution_count": 24,
   "id": "f00eda09",
   "metadata": {},
   "outputs": [
    {
     "data": {
      "text/plain": [
       "array([[66, 94, 16,  4, 75, 36, 80, 49, 64],\n",
       "       [35, 86, 19, 20, 52, 41, 24, 98, 28],\n",
       "       [10,  3, 53, 53, 53, 91, 27, 70, 48],\n",
       "       [38, 54, 18, 30, 68, 43, 71, 19, 63]])"
      ]
     },
     "execution_count": 24,
     "metadata": {},
     "output_type": "execute_result"
    }
   ],
   "source": [
    "a = a.reshape(4,-1)\n",
    "a"
   ]
  },
  {
   "cell_type": "code",
   "execution_count": 25,
   "id": "ee40a96b",
   "metadata": {},
   "outputs": [
    {
     "data": {
      "text/plain": [
       "array([79, 62, 17, 74,  9, 63, 28, 31, 81,  8, 77, 16, 54, 81, 28, 45, 78,\n",
       "       76, 66, 48])"
      ]
     },
     "execution_count": 25,
     "metadata": {},
     "output_type": "execute_result"
    }
   ],
   "source": [
    "# seed Function:- We know that randint function generate random number. Everytime we run the program, new set of \n",
    "# random number is generated but the seed function store the fix value value in array seed function alloted the memory .\n",
    "np.random.seed(5)\n",
    "a = np.random.randint(1,100,20)\n",
    "a"
   ]
  },
  {
   "cell_type": "code",
   "execution_count": 26,
   "id": "f27cd498",
   "metadata": {},
   "outputs": [
    {
     "name": "stdout",
     "output_type": "stream",
     "text": [
      "[10 20 30 40 50 60 70]\n",
      "[0 0 0]\n",
      "[10 20 30  0  0  0 70]\n",
      "==========copy function===============\n",
      "[10 20 30 40 50 60 70]\n",
      "[0 0 0]\n"
     ]
    }
   ],
   "source": [
    "#View and copy:-\n",
    "# View:-\n",
    "a = np.array([10,20,30,40,50,60,70])\n",
    "#a = a[3:6]\n",
    "print(a)\n",
    "\n",
    "b = a[3:6]\n",
    "b[:]=0\n",
    "print(b)\n",
    "print(a)\n",
    "\n",
    "print(\"==========copy function===============\")\n",
    "\n",
    "#Copy:-\n",
    "A = np.array([10,20,30,40,50,60,70])\n",
    "B = a[3:6].copy()\n",
    "B[:] = 0\n",
    "print(A)\n",
    "print(B)"
   ]
  },
  {
   "cell_type": "markdown",
   "id": "6b9b8d82",
   "metadata": {},
   "source": [
    "# Conditional Selectoin"
   ]
  },
  {
   "cell_type": "code",
   "execution_count": 27,
   "id": "9adf2abc",
   "metadata": {},
   "outputs": [
    {
     "data": {
      "text/plain": [
       "array([ 1,  2,  3,  4,  5,  6,  7,  8,  9, 10, 11, 12, 13, 14, 15])"
      ]
     },
     "execution_count": 27,
     "metadata": {},
     "output_type": "execute_result"
    }
   ],
   "source": [
    "\n",
    "a = np.arange(1,16)\n",
    "a"
   ]
  },
  {
   "cell_type": "code",
   "execution_count": 28,
   "id": "90a1ced7",
   "metadata": {},
   "outputs": [
    {
     "data": {
      "text/plain": [
       "array([False, False, False, False, False, False, False, False, False,\n",
       "       False,  True,  True,  True,  True,  True])"
      ]
     },
     "execution_count": 28,
     "metadata": {},
     "output_type": "execute_result"
    }
   ],
   "source": [
    "a>10"
   ]
  },
  {
   "cell_type": "code",
   "execution_count": 29,
   "id": "d16871ef",
   "metadata": {},
   "outputs": [
    {
     "data": {
      "text/plain": [
       "array([ True,  True,  True,  True,  True,  True,  True,  True,  True,\n",
       "       False, False, False, False, False, False])"
      ]
     },
     "execution_count": 29,
     "metadata": {},
     "output_type": "execute_result"
    }
   ],
   "source": [
    "a<10"
   ]
  },
  {
   "cell_type": "code",
   "execution_count": 30,
   "id": "91db0922",
   "metadata": {},
   "outputs": [
    {
     "data": {
      "text/plain": [
       "array([1, 2, 3, 4, 5, 6, 7, 8, 9])"
      ]
     },
     "execution_count": 30,
     "metadata": {},
     "output_type": "execute_result"
    }
   ],
   "source": [
    "b = a<10\n",
    "a[b]"
   ]
  },
  {
   "cell_type": "code",
   "execution_count": 31,
   "id": "f9338a09",
   "metadata": {},
   "outputs": [
    {
     "data": {
      "text/plain": [
       "array([ 2,  4,  6,  8, 10, 12, 14])"
      ]
     },
     "execution_count": 31,
     "metadata": {},
     "output_type": "execute_result"
    }
   ],
   "source": [
    "a[a%2==0]"
   ]
  },
  {
   "cell_type": "code",
   "execution_count": 32,
   "id": "582421ec",
   "metadata": {},
   "outputs": [
    {
     "data": {
      "text/plain": [
       "array([ 1,  3,  5,  7,  9, 11, 13, 15])"
      ]
     },
     "execution_count": 32,
     "metadata": {},
     "output_type": "execute_result"
    }
   ],
   "source": [
    "a[a%2!=0]"
   ]
  },
  {
   "cell_type": "code",
   "execution_count": null,
   "id": "8c3e9c86",
   "metadata": {},
   "outputs": [],
   "source": []
  },
  {
   "cell_type": "markdown",
   "id": "e167b048",
   "metadata": {},
   "source": [
    "# Operations on array"
   ]
  },
  {
   "cell_type": "code",
   "execution_count": 33,
   "id": "5ca28bb8",
   "metadata": {},
   "outputs": [
    {
     "data": {
      "text/plain": [
       "array([1, 2, 3, 4])"
      ]
     },
     "execution_count": 33,
     "metadata": {},
     "output_type": "execute_result"
    }
   ],
   "source": [
    "a = np.arange(1,5)\n",
    "a"
   ]
  },
  {
   "cell_type": "code",
   "execution_count": 34,
   "id": "ae67bc0a",
   "metadata": {},
   "outputs": [
    {
     "data": {
      "text/plain": [
       "array([2, 4, 6, 8])"
      ]
     },
     "execution_count": 34,
     "metadata": {},
     "output_type": "execute_result"
    }
   ],
   "source": [
    "a*2"
   ]
  },
  {
   "cell_type": "code",
   "execution_count": 35,
   "id": "503abbc3",
   "metadata": {},
   "outputs": [
    {
     "data": {
      "text/plain": [
       "array([3, 4, 5, 6])"
      ]
     },
     "execution_count": 35,
     "metadata": {},
     "output_type": "execute_result"
    }
   ],
   "source": [
    "a+2"
   ]
  },
  {
   "cell_type": "code",
   "execution_count": 36,
   "id": "bf783117",
   "metadata": {},
   "outputs": [
    {
     "data": {
      "text/plain": [
       "array([ 1,  4,  9, 16])"
      ]
     },
     "execution_count": 36,
     "metadata": {},
     "output_type": "execute_result"
    }
   ],
   "source": [
    "a**2"
   ]
  },
  {
   "cell_type": "code",
   "execution_count": 37,
   "id": "9d1086cd",
   "metadata": {},
   "outputs": [
    {
     "data": {
      "text/plain": [
       "array([[10, 20],\n",
       "       [30, 40]])"
      ]
     },
     "execution_count": 37,
     "metadata": {},
     "output_type": "execute_result"
    }
   ],
   "source": [
    "b = np.array([10,20,30,40]).reshape(2,2)\n",
    "b"
   ]
  },
  {
   "cell_type": "code",
   "execution_count": 38,
   "id": "b0b84b4d",
   "metadata": {},
   "outputs": [
    {
     "data": {
      "text/plain": [
       "array([[56,  6],\n",
       "       [ 0,  5]])"
      ]
     },
     "execution_count": 38,
     "metadata": {},
     "output_type": "execute_result"
    }
   ],
   "source": [
    "a = np.array([56,6,0,5]).reshape(2,2)\n",
    "a"
   ]
  },
  {
   "cell_type": "code",
   "execution_count": 39,
   "id": "bc7671f0",
   "metadata": {},
   "outputs": [
    {
     "data": {
      "text/plain": [
       "array([[66, 26],\n",
       "       [30, 45]])"
      ]
     },
     "execution_count": 39,
     "metadata": {},
     "output_type": "execute_result"
    }
   ],
   "source": [
    "a+b"
   ]
  },
  {
   "cell_type": "code",
   "execution_count": 40,
   "id": "e070a8b4",
   "metadata": {},
   "outputs": [
    {
     "data": {
      "text/plain": [
       "array([[ 46, -14],\n",
       "       [-30, -35]])"
      ]
     },
     "execution_count": 40,
     "metadata": {},
     "output_type": "execute_result"
    }
   ],
   "source": [
    "a-b"
   ]
  },
  {
   "cell_type": "code",
   "execution_count": 41,
   "id": "ff7ae91a",
   "metadata": {},
   "outputs": [
    {
     "data": {
      "text/plain": [
       "array([[-46,  14],\n",
       "       [ 30,  35]])"
      ]
     },
     "execution_count": 41,
     "metadata": {},
     "output_type": "execute_result"
    }
   ],
   "source": [
    "b-a"
   ]
  },
  {
   "cell_type": "code",
   "execution_count": 42,
   "id": "91800c4f",
   "metadata": {},
   "outputs": [
    {
     "data": {
      "text/plain": [
       "array([[560, 120],\n",
       "       [  0, 200]])"
      ]
     },
     "execution_count": 42,
     "metadata": {},
     "output_type": "execute_result"
    }
   ],
   "source": [
    "a*b"
   ]
  },
  {
   "cell_type": "code",
   "execution_count": 43,
   "id": "70ddb8ff",
   "metadata": {},
   "outputs": [
    {
     "name": "stderr",
     "output_type": "stream",
     "text": [
      "C:\\Users\\vikas\\AppData\\Local\\Temp\\ipykernel_13436\\2243761560.py:1: RuntimeWarning: divide by zero encountered in divide\n",
      "  b/a\n"
     ]
    },
    {
     "data": {
      "text/plain": [
       "array([[0.17857143, 3.33333333],\n",
       "       [       inf, 8.        ]])"
      ]
     },
     "execution_count": 43,
     "metadata": {},
     "output_type": "execute_result"
    }
   ],
   "source": [
    "b/a"
   ]
  },
  {
   "cell_type": "code",
   "execution_count": 44,
   "id": "f81f550e",
   "metadata": {},
   "outputs": [
    {
     "name": "stderr",
     "output_type": "stream",
     "text": [
      "C:\\Users\\vikas\\AppData\\Local\\Temp\\ipykernel_13436\\997269450.py:1: RuntimeWarning: divide by zero encountered in floor_divide\n",
      "  b//a\n"
     ]
    },
    {
     "data": {
      "text/plain": [
       "array([[0, 3],\n",
       "       [0, 8]])"
      ]
     },
     "execution_count": 44,
     "metadata": {},
     "output_type": "execute_result"
    }
   ],
   "source": [
    "b//a"
   ]
  },
  {
   "cell_type": "code",
   "execution_count": 45,
   "id": "34540004",
   "metadata": {},
   "outputs": [
    {
     "data": {
      "text/plain": [
       "array([[ 740, 1360],\n",
       "       [ 150,  200]])"
      ]
     },
     "execution_count": 45,
     "metadata": {},
     "output_type": "execute_result"
    }
   ],
   "source": [
    "a.dot(b)"
   ]
  },
  {
   "cell_type": "code",
   "execution_count": null,
   "id": "24c2bc36",
   "metadata": {},
   "outputs": [],
   "source": []
  },
  {
   "cell_type": "code",
   "execution_count": 46,
   "id": "173efdab",
   "metadata": {},
   "outputs": [
    {
     "data": {
      "text/plain": [
       "0"
      ]
     },
     "execution_count": 46,
     "metadata": {},
     "output_type": "execute_result"
    }
   ],
   "source": [
    "\n",
    "A= np.array([10,20,30,40])\n",
    "np.min(a)"
   ]
  },
  {
   "cell_type": "code",
   "execution_count": 47,
   "id": "d2f6bd5e",
   "metadata": {},
   "outputs": [
    {
     "data": {
      "text/plain": [
       "40"
      ]
     },
     "execution_count": 47,
     "metadata": {},
     "output_type": "execute_result"
    }
   ],
   "source": [
    "np.max(A)"
   ]
  },
  {
   "cell_type": "code",
   "execution_count": 48,
   "id": "d9ddf5a6",
   "metadata": {},
   "outputs": [
    {
     "data": {
      "text/plain": [
       "0"
      ]
     },
     "execution_count": 48,
     "metadata": {},
     "output_type": "execute_result"
    }
   ],
   "source": [
    "#argmin() function:- this is a NumPy function used to find the indices of the minimum value along an axis in a NumPy array.\n",
    "# Here's a brief explanation:\n",
    "np.argmin(A)"
   ]
  },
  {
   "cell_type": "code",
   "execution_count": 49,
   "id": "ea0f7451",
   "metadata": {},
   "outputs": [
    {
     "data": {
      "text/plain": [
       "3"
      ]
     },
     "execution_count": 49,
     "metadata": {},
     "output_type": "execute_result"
    }
   ],
   "source": [
    "#argmax() function:- this is a NumPy function used to find the indices of the maximum value along an axis in a NumPy array.\n",
    "# Here's a brief explanation:\n",
    "np.argmax(A)"
   ]
  },
  {
   "cell_type": "code",
   "execution_count": 50,
   "id": "71675421",
   "metadata": {},
   "outputs": [
    {
     "data": {
      "text/plain": [
       "array([[7.48331477, 2.44948974],\n",
       "       [0.        , 2.23606798]])"
      ]
     },
     "execution_count": 50,
     "metadata": {},
     "output_type": "execute_result"
    }
   ],
   "source": [
    "# sqrt()==>square root function. The square root of a number x is value y such that y^2=x. It's the inverse operation of squaring a\n",
    "# number.\n",
    "np.sqrt(a)"
   ]
  },
  {
   "cell_type": "code",
   "execution_count": 51,
   "id": "37069f79",
   "metadata": {},
   "outputs": [
    {
     "data": {
      "text/plain": [
       "array([[-0.521551  , -0.2794155 ],\n",
       "       [ 0.        , -0.95892427]])"
      ]
     },
     "execution_count": 51,
     "metadata": {},
     "output_type": "execute_result"
    }
   ],
   "source": [
    "np.sin(a)"
   ]
  },
  {
   "cell_type": "code",
   "execution_count": 52,
   "id": "821da510",
   "metadata": {},
   "outputs": [],
   "source": [
    "# Linspace() ==> This function returns value between a given range and with a same gap between consecutive elements."
   ]
  },
  {
   "cell_type": "code",
   "execution_count": 53,
   "id": "415e093c",
   "metadata": {},
   "outputs": [
    {
     "data": {
      "text/plain": [
       "array([1.  , 1.25, 1.5 , 1.75, 2.  ])"
      ]
     },
     "execution_count": 53,
     "metadata": {},
     "output_type": "execute_result"
    }
   ],
   "source": [
    "a = np.linspace(1,2,5)\n",
    "a"
   ]
  },
  {
   "cell_type": "code",
   "execution_count": 54,
   "id": "7add1a7f",
   "metadata": {},
   "outputs": [
    {
     "data": {
      "text/plain": [
       "(array([10, 20, 30, 40, 50, 65, 85]),\n",
       " array([0, 1, 2, 3, 4, 5, 6], dtype=int64),\n",
       " array([1, 1, 1, 1, 1, 1, 1], dtype=int64))"
      ]
     },
     "execution_count": 54,
     "metadata": {},
     "output_type": "execute_result"
    }
   ],
   "source": [
    "# # np.unique(arr,return_index = True, return_counts = True)\n",
    "# In NumPy, the numpy.unique function is used to find unique elements in an array and return them in sorted order. It also\n",
    "# provides options to return indices or counts of unique elements\n",
    "a = np.array([10,20,30,40,50,65,85])\n",
    "np.unique(a, return_index = True, return_counts=True)"
   ]
  },
  {
   "cell_type": "markdown",
   "id": "2b8bdb63",
   "metadata": {},
   "source": [
    "# Horizontal and Vertical stacking"
   ]
  },
  {
   "cell_type": "code",
   "execution_count": 55,
   "id": "b155db51",
   "metadata": {},
   "outputs": [
    {
     "name": "stdout",
     "output_type": "stream",
     "text": [
      "[1 2 3 4]\n",
      "[5 6 7 8]\n"
     ]
    }
   ],
   "source": [
    "a = np.array([1,2,3,4])\n",
    "b = np.array([5,6,7,8])\n",
    "print(a)\n",
    "print(b)"
   ]
  },
  {
   "cell_type": "code",
   "execution_count": 56,
   "id": "177261e1",
   "metadata": {},
   "outputs": [
    {
     "data": {
      "text/plain": [
       "array([1, 2, 3, 4, 5, 6, 7, 8])"
      ]
     },
     "execution_count": 56,
     "metadata": {},
     "output_type": "execute_result"
    }
   ],
   "source": [
    "np.hstack((a,b))"
   ]
  },
  {
   "cell_type": "code",
   "execution_count": 57,
   "id": "3f034470",
   "metadata": {},
   "outputs": [
    {
     "data": {
      "text/plain": [
       "array([[1, 2, 3, 4],\n",
       "       [5, 6, 7, 8]])"
      ]
     },
     "execution_count": 57,
     "metadata": {},
     "output_type": "execute_result"
    }
   ],
   "source": [
    "np.vstack((a,b))"
   ]
  },
  {
   "cell_type": "markdown",
   "id": "979bd886",
   "metadata": {},
   "source": [
    "# Appending Array\n"
   ]
  },
  {
   "cell_type": "code",
   "execution_count": 58,
   "id": "ad75430b",
   "metadata": {},
   "outputs": [
    {
     "name": "stdout",
     "output_type": "stream",
     "text": [
      "Original Array :  [1 8 3 3 5]\n",
      "Array after appending :  [1 8 3 3 5 7]\n"
     ]
    }
   ],
   "source": [
    "# For 1D array\n",
    "\n",
    "# creating an array\n",
    "a = np.array([1, 8, 3, 3, 5])\n",
    "print('Original Array : ', a)\n",
    "\n",
    "# appending to the array\n",
    "a = np.append(a, [7])\n",
    "print('Array after appending : ', a)\n"
   ]
  },
  {
   "cell_type": "code",
   "execution_count": 59,
   "id": "55aba03d",
   "metadata": {},
   "outputs": [
    {
     "name": "stdout",
     "output_type": "stream",
     "text": [
      "First array is :  [1 2 3]\n",
      "Second array is :  [4 5 6]\n",
      "Array after appending :  [1 2 3 4 5 6]\n"
     ]
    }
   ],
   "source": [
    "# Appending Another Array at the End of a 1D Array\n",
    "\n",
    "# creating an array\n",
    "arr1 = np.array([1, 2, 3])\n",
    "print('First array is : ', arr1)\n",
    "\n",
    "# creating another array\n",
    "arr2 = np.array([4, 5, 6])\n",
    "print('Second array is : ', arr2)\n",
    "\n",
    "# appending arr2 to arr1\n",
    "arr = np.append(arr1, arr2)\n",
    "print('Array after appending : ', arr)\n"
   ]
  },
  {
   "cell_type": "code",
   "execution_count": 60,
   "id": "664ddf9d",
   "metadata": {},
   "outputs": [
    {
     "name": "stdout",
     "output_type": "stream",
     "text": [
      "[[1 2]\n",
      " [3 4]\n",
      " [5 6]]\n"
     ]
    }
   ],
   "source": [
    "# Appending Values at the End Using Concatenation\n",
    "\n",
    "\n",
    "arr1 = np.array([[1, 2], [3, 4]])\n",
    "arr2 = np.array([[5, 6]])\n",
    "\n",
    "combined = np.concatenate((arr1, arr2), axis=0)\n",
    "print(combined)"
   ]
  },
  {
   "cell_type": "code",
   "execution_count": 61,
   "id": "9c6fd93f",
   "metadata": {},
   "outputs": [
    {
     "data": {
      "text/plain": [
       "2"
      ]
     },
     "execution_count": 61,
     "metadata": {},
     "output_type": "execute_result"
    }
   ],
   "source": [
    "combined.ndim"
   ]
  },
  {
   "cell_type": "code",
   "execution_count": 62,
   "id": "8620ef85",
   "metadata": {},
   "outputs": [
    {
     "name": "stdout",
     "output_type": "stream",
     "text": [
      "[1. 2. 3. 4. 5.]\n"
     ]
    }
   ],
   "source": [
    "#Different type array appending\n",
    "\n",
    "arr = np.array([1, 2, 3])\n",
    "arr_float = np.array([4.0, 5.0])\n",
    "\n",
    "combined = np.append(arr, arr_float)\n",
    "print(combined) \n"
   ]
  },
  {
   "cell_type": "code",
   "execution_count": 63,
   "id": "72404773",
   "metadata": {},
   "outputs": [
    {
     "name": "stdout",
     "output_type": "stream",
     "text": [
      "[1 2 3 4 5 6 7 8 9]\n"
     ]
    }
   ],
   "source": [
    "# Appending Using List Comprehension and numpy.concatenate\n",
    "arr = np.array([1, 2, 3, 4, 5])\n",
    "values_to_append = [np.array([6, 7]), np.array([8, 9])]\n",
    "combined = np.concatenate([arr] + values_to_append)\n",
    "print(combined)\n"
   ]
  },
  {
   "cell_type": "code",
   "execution_count": 64,
   "id": "d07c3ad5",
   "metadata": {},
   "outputs": [
    {
     "name": "stdout",
     "output_type": "stream",
     "text": [
      "Original Array\n",
      "[[ 1  2  3  4  5  6]\n",
      " [ 7  8  9 10 11 12]] \n",
      "\n",
      "Array to be appended column wise\n",
      "[[ 5  6  7  8  9 10]]\n",
      "Array after appending the values column wise\n",
      "[[ 1  2  3  4  5  6]\n",
      " [ 7  8  9 10 11 12]\n",
      " [ 5  6  7  8  9 10]] \n",
      "\n",
      "Array to be appended row wise\n",
      "[[1]\n",
      " [2]]\n",
      "Array after appending the values row wise\n",
      "[[ 1  2  3  4  5  6  1]\n",
      " [ 7  8  9 10 11 12  2]]\n"
     ]
    }
   ],
   "source": [
    "# Ques1). Appending Values at the End of the N-Dimensional Array\n",
    "\n",
    "# create an array\n",
    "arr = np.arange(1, 13).reshape(2, 6)\n",
    "print('Original Array')\n",
    "print(arr, '\\n')\n",
    "\n",
    "# create another array which is to be appended column-wise\n",
    "col = np.arange(5, 11).reshape(1, 6)\n",
    "print('Array to be appended column wise')\n",
    "print(col)\n",
    "arr_col = np.append(arr, col, axis=0)\n",
    "print('Array after appending the values column wise')\n",
    "print(arr_col, '\\n')\n",
    "\n",
    "# create an array which is\n",
    "# to be appended row wise\n",
    "row = np.array([1, 2]).reshape(2, 1)\n",
    "print('Array to be appended row wise')\n",
    "print(row)\n",
    "arr_row = np.append(arr, row, axis=1)\n",
    "print('Array after appending the values row wise')\n",
    "print(arr_row)\n",
    "\n"
   ]
  },
  {
   "cell_type": "code",
   "execution_count": null,
   "id": "46ad41ed",
   "metadata": {},
   "outputs": [],
   "source": []
  },
  {
   "cell_type": "code",
   "execution_count": 66,
   "id": "2061e726",
   "metadata": {},
   "outputs": [],
   "source": [
    "# How to swap columns of a given NumPy array?\n",
    "# 123      321\n",
    "# 456 ==>  654\n",
    "# 789      987"
   ]
  },
  {
   "cell_type": "code",
   "execution_count": 67,
   "id": "c7be59fa",
   "metadata": {},
   "outputs": [
    {
     "name": "stdout",
     "output_type": "stream",
     "text": [
      "Original array:\n",
      "[[ 0  1  2]\n",
      " [ 3  4  5]\n",
      " [ 6  7  8]\n",
      " [ 9 10 11]]\n",
      "After swapping arrays the last column and first column:\n",
      "[[ 2  1  0]\n",
      " [ 5  4  3]\n",
      " [ 8  7  6]\n",
      " [11 10  9]]\n"
     ]
    }
   ],
   "source": [
    "# creating array with shape(4,3)\n",
    "my_array = np.arange(12).reshape(4, 3)\n",
    "print(\"Original array:\")\n",
    "print(my_array)\n",
    "\n",
    "# swapping the column with index of \n",
    "# original array\n",
    "my_array[:, [2, 0]] = my_array[:, [0, 2]]\n",
    "print(\"After swapping arrays the last column and first column:\")\n",
    "print(my_array)\n"
   ]
  },
  {
   "cell_type": "code",
   "execution_count": 68,
   "id": "f75a1a4e",
   "metadata": {},
   "outputs": [
    {
     "name": "stdout",
     "output_type": "stream",
     "text": [
      "(3, 1, 4)\n"
     ]
    }
   ],
   "source": [
    "# Insert a new axis within a NumPy array\n",
    "# 1D array will become 2D array\n",
    "# 2D array will become 3D array\n",
    "# 3D array will become 4D array\n",
    "# 4D array will become 5D array\n",
    "\n",
    "x = np.zeros((3, 4)) \n",
    "y = np.expand_dims(x, axis=1).shape \n",
    "print(y) \n"
   ]
  },
  {
   "cell_type": "code",
   "execution_count": 69,
   "id": "f2ad39c8",
   "metadata": {},
   "outputs": [
    {
     "name": "stdout",
     "output_type": "stream",
     "text": [
      "(5, 5)\n",
      "(1, 5, 5, 1, 1)\n"
     ]
    }
   ],
   "source": [
    "# example-2\n",
    "arr = np.arange(5*5).reshape(5,5) \n",
    "print(arr.shape) \n",
    "\n",
    "newaxes = (0, 3, -1) \n",
    "arr_5D = np.expand_dims(arr, axis=newaxes) \n",
    "print(arr_5D.shape)\n"
   ]
  },
  {
   "cell_type": "code",
   "execution_count": 70,
   "id": "e5c3e98b",
   "metadata": {},
   "outputs": [
    {
     "name": "stdout",
     "output_type": "stream",
     "text": [
      "One dimensional array:\n",
      "[0 1 2 3 4]\n",
      "\n",
      "Two dimensional array:\n",
      "[[0 1 2 3 4]\n",
      " [5 6 7 8 9]]\n",
      "0:0\n",
      "1:1\n",
      "2:2\n",
      "3:3\n",
      "4:4\n",
      "0:5\n",
      "1:6\n",
      "2:7\n",
      "3:8\n",
      "4:9\n"
     ]
    }
   ],
   "source": [
    "# Combining a one and a two-dimensional NumPy Array\n",
    "# Sometimes we need to combine 1-D and 2-D arrays and display their elements. Numpy has a function named as numpy.nditer(), \n",
    "# which provides this facility.\n",
    "\n",
    "num_1d = np.arange(5) \n",
    "print(\"One dimensional array:\") \n",
    "print(num_1d) \n",
    "\n",
    "num_2d = np.arange(10).reshape(2,5) \n",
    "print(\"\\nTwo dimensional array:\") \n",
    "print(num_2d) \n",
    "\n",
    "# Combine 1-D and 2-D arrays and display \n",
    "# their elements using numpy.nditer() \n",
    "for a, b in np.nditer([num_1d, num_2d]): \n",
    "    print(\"%d:%d\" % (a, b),)\n"
   ]
  },
  {
   "cell_type": "code",
   "execution_count": 71,
   "id": "6000883d",
   "metadata": {},
   "outputs": [
    {
     "name": "stdout",
     "output_type": "stream",
     "text": [
      "[1 2 3 4 5 6]\n"
     ]
    }
   ],
   "source": [
    "# Python | Numpy np.ma.concatenate() method\n",
    "# With the help of np.ma.concatenate() method, we can concatenate two arrays with the help of np.ma.concatenate() method.\n",
    "\n",
    "# import numpy \n",
    "import numpy as np \n",
    "import numpy.ma as ma \n",
    "\n",
    "A = np.array([1, 2, 3]) \n",
    "B = np.array([4, 5, 6]) \n",
    "\n",
    "# using np.ma.concatenate() method \n",
    "X = ma.concatenate([A, B]) \n",
    "\n",
    "print(X) \n",
    "\n",
    "\n"
   ]
  },
  {
   "cell_type": "code",
   "execution_count": 72,
   "id": "0d40b8ac",
   "metadata": {},
   "outputs": [
    {
     "name": "stdout",
     "output_type": "stream",
     "text": [
      "[[11 22 33]\n",
      " [41 52 63]]\n"
     ]
    }
   ],
   "source": [
    "# Ex-2\n",
    "# import numpy \n",
    "import numpy as np \n",
    "import numpy.ma as ma \n",
    "\n",
    "a = np.array([11, 22, 33]) \n",
    "b = np.array([41, 52, 63]) \n",
    "\n",
    "# using np.ma.concatenate() method \n",
    "X = ma.concatenate([[a], [b]]) \n",
    "\n",
    "print(X) \n"
   ]
  },
  {
   "cell_type": "code",
   "execution_count": 73,
   "id": "18009ced",
   "metadata": {},
   "outputs": [
    {
     "name": "stdout",
     "output_type": "stream",
     "text": [
      "[array([[0, 1, 2, 3, 4],\n",
      "       [5, 6, 7, 8, 9]]), array([[10, 11, 12, 13, 14],\n",
      "       [15, 16, 17, 18, 19]]), array([[20, 21, 22, 23, 24]])]\n"
     ]
    }
   ],
   "source": [
    "# Split array\n",
    "import numpy as np\n",
    "Arr = np.array([1, 2, 3, 4, 5, 6])\n",
    "array = np.array_split(arr, 3)\n",
    "print(array)\n"
   ]
  },
  {
   "cell_type": "code",
   "execution_count": 74,
   "id": "bf943414",
   "metadata": {},
   "outputs": [
    {
     "name": "stdout",
     "output_type": "stream",
     "text": [
      "True\n"
     ]
    }
   ],
   "source": [
    "# How to compare two NumPy arrays?\n",
    "\n",
    "an_array = np.array([[1, 2], [3, 4]])\n",
    "another_array = np.array([[1, 2], [3, 4]])\n",
    "\n",
    "comparison = an_array == another_array\n",
    "equal_arrays = comparison.all()\n",
    "\n",
    "print(equal_arrays)\n"
   ]
  },
  {
   "cell_type": "code",
   "execution_count": 75,
   "id": "f3060c01",
   "metadata": {},
   "outputs": [
    {
     "name": "stdout",
     "output_type": "stream",
     "text": [
      "Array a:  [101  99  87]\n",
      "Array b:  [897  97 111]\n",
      "a > b\n",
      "[False  True False]\n",
      "a >= b\n",
      "[False  True False]\n",
      "a < b\n",
      "[ True False  True]\n",
      "a <= b\n",
      "[ True False  True]\n"
     ]
    }
   ],
   "source": [
    "# Method-2:- We can also use greater than, less than and equal to operators to compare. To understand, have a look at the code below.\n",
    "\n",
    "\n",
    "a = np.array([101, 99, 87])\n",
    "b = np.array([897, 97, 111])\n",
    "\n",
    "print(\"Array a: \", a)\n",
    "print(\"Array b: \", b)\n",
    "\n",
    "print(\"a > b\")\n",
    "print(np.greater(a, b))\n",
    "\n",
    "print(\"a >= b\")\n",
    "print(np.greater_equal(a, b))\n",
    "\n",
    "print(\"a < b\")\n",
    "print(np.less(a, b))\n",
    "\n",
    "print(\"a <= b\")\n",
    "print(np.less_equal(a, b))\n"
   ]
  },
  {
   "cell_type": "code",
   "execution_count": 76,
   "id": "6f370c75",
   "metadata": {},
   "outputs": [
    {
     "name": "stdout",
     "output_type": "stream",
     "text": [
      "array1  [10 20 30 40]\n",
      "array2  [20 40 60 80]\n",
      "Union of two arrays : [10 20 30 40 60 80]\n"
     ]
    }
   ],
   "source": [
    "# unique od twp numpy array\n",
    "# import libraries \n",
    "import numpy as np \n",
    "\n",
    "\n",
    "arr1 = np.array([10, 20, 30, 40]) \n",
    "print(\"array1 \", arr1) \n",
    "\n",
    "arr2 = np.array([20, 40, 60, 80]) \n",
    "print(\"array2 \", arr2) \n",
    "\n",
    "# print union of the two arrays \n",
    "print(\"Union of two arrays :\", np.union1d(arr1, arr2)) \n"
   ]
  },
  {
   "cell_type": "code",
   "execution_count": 77,
   "id": "123f76cc",
   "metadata": {},
   "outputs": [
    {
     "name": "stdout",
     "output_type": "stream",
     "text": [
      "Original Array :\n",
      "[[11 11 12 11]\n",
      " [13 11 12 11]\n",
      " [16 11 12 11]\n",
      " [11 11 12 11]]\n",
      "Unique Rows:\n",
      "[11 12 13 16]\n"
     ]
    }
   ],
   "source": [
    "# Get unique rows from complete 2D-array.\n",
    "# import library\n",
    "import numpy as np\n",
    "\n",
    "# Create a 2D numpy array\n",
    "arr2D = np.array([[11, 11, 12, 11],\n",
    "                    [13, 11, 12, 11],\n",
    "                    [16, 11, 12, 11],\n",
    "                    [11, 11, 12, 11]])\n",
    "\n",
    "print('Original Array :' ,\n",
    "    arr2D, sep = '\\n')\n",
    "\n",
    "uniqueRows = np.unique(arr2D)\n",
    "\n",
    "\n",
    "# print the output result\n",
    "print('Unique Rows:',\n",
    "uniqueRows, sep = '\\n')\n"
   ]
  },
  {
   "cell_type": "code",
   "execution_count": 78,
   "id": "b6f6776c",
   "metadata": {},
   "outputs": [
    {
     "name": "stdout",
     "output_type": "stream",
     "text": [
      "[ 1  5  7  0  6  2  9  0 10]\n"
     ]
    }
   ],
   "source": [
    "# Trim zeors\n",
    "import numpy as geek \n",
    "\n",
    "Z = geek.array((0, 0, 0, 0, 1, 5, 7, 0, 6, 2, 9, 0, 10, 0, 0)) \n",
    "\n",
    "# without trim parameter \n",
    "# returns an array without leading and trailing zeros \n",
    "\n",
    "res = geek.trim_zeros(Z) \n",
    "print(res) \n"
   ]
  },
  {
   "cell_type": "markdown",
   "id": "2bea3384",
   "metadata": {},
   "source": [
    "# Matrix"
   ]
  },
  {
   "cell_type": "code",
   "execution_count": 79,
   "id": "47519734",
   "metadata": {},
   "outputs": [
    {
     "name": "stdout",
     "output_type": "stream",
     "text": [
      "[[3. 3. 3.]\n",
      " [3. 3. 3.]\n",
      " [3. 3. 3.]]\n"
     ]
    }
   ],
   "source": [
    "# .dot multiple\n",
    "arr1 = np.eye(3) \n",
    "arr = np.ones((3, 3)) * 3\n",
    "  \n",
    "z = arr1.dot( arr ) \n",
    "  \n",
    "print( z) "
   ]
  },
  {
   "cell_type": "code",
   "execution_count": 80,
   "id": "610aeba0",
   "metadata": {},
   "outputs": [
    {
     "name": "stdout",
     "output_type": "stream",
     "text": [
      "w =  [20  5]\n"
     ]
    },
    {
     "data": {
      "image/png": "[encoded data removed]",
      "text/plain": [
       "<Figure size 640x480 with 1 Axes>"
      ]
     },
     "metadata": {},
     "output_type": "display_data"
    }
   ],
   "source": [
    "# Vector multiple\n",
    "# Vector multiplication is of three types:\n",
    "\n",
    "# Scalar Product\n",
    "# Dot Product\n",
    "# Cross Product\n",
    "# Scalar Multiplication:\n",
    "# Scalar multiplication can be represented by multiplying a scalar quantity by all the elements in the vector matrix.\n",
    "\n",
    "# If v is vector with [4 1] , then 5v = 5*[4 1]= [20 5]\n",
    "\n",
    "\n",
    "import numpy as np \n",
    "import matplotlib.pyplot as plt \n",
    "import math \n",
    "\n",
    "v = np.array([4, 1]) \n",
    "w = 5 * v \n",
    "print(\"w = \", w) \n",
    "\n",
    "# Plot w \n",
    "origin =[0], [0] \n",
    "plt.grid() \n",
    "plt.ticklabel_format(style ='sci', axis ='both', \n",
    "                        scilimits =(0, 0)) \n",
    "plt.quiver(*origin, *w, scale = 10) \n",
    "plt.show() \n"
   ]
  },
  {
   "cell_type": "code",
   "execution_count": 81,
   "id": "02a9ef3b",
   "metadata": {},
   "outputs": [
    {
     "name": "stdout",
     "output_type": "stream",
     "text": [
      "Inverse array is \n",
      "[[-1.5   0.5 ]\n",
      " [ 1.25 -0.25]]\n",
      "\n",
      "Inverse array is \n",
      "[[-0.6875     -0.125       0.3125    ]\n",
      " [-0.125       0.25       -0.125     ]\n",
      " [ 0.64583333 -0.125      -0.02083333]]\n",
      "\n",
      "Inverse array is \n",
      "[[-15.07692308   4.9         -0.8         -0.42307692]\n",
      " [ 32.48717949 -10.9          1.8          1.01282051]\n",
      " [-20.84615385   7.1         -1.2         -0.65384615]\n",
      " [  3.41025641  -1.1          0.2          0.08974359]]\n",
      "\n",
      "Inverse array is \n",
      "[[1.]]\n"
     ]
    }
   ],
   "source": [
    "#Inverse\n",
    "# Importing Library \n",
    "import numpy as np \n",
    "\n",
    "# Finding an inverse of given array \n",
    "arr = np.array([[1, 2], [5, 6]]) \n",
    "inverse_array = np.linalg.inv(arr) \n",
    "print(\"Inverse array is \") \n",
    "print(inverse_array) \n",
    "print() \n",
    "\n",
    "# inverse of 3X3 matrix \n",
    "arr = np.array([[1, 2, 3], \n",
    "                [4, 9, 6], \n",
    "                [7, 8, 9]]) \n",
    "\n",
    "inverse_array = np.linalg.inv(arr) \n",
    "print(\"Inverse array is \") \n",
    "print(inverse_array) \n",
    "print() \n",
    "\n",
    "# inverse of 4X4 matrix \n",
    "arr = np.array([[1, 2, 3, 4], \n",
    "                [10, 11, 14, 25], \n",
    "                [20, 8, 7, 55], \n",
    "                [40, 41, 42, 43]]) \n",
    "\n",
    "inverse_array = np.linalg.inv(arr) \n",
    "print(\"Inverse array is \") \n",
    "print(inverse_array) \n",
    "print() \n",
    "\n",
    "# inverse of 1X1 matrix \n",
    "arr = np.array([[1]]) \n",
    "inverse_array = np.linalg.inv(arr) \n",
    "print(\"Inverse array is \") \n",
    "print(inverse_array)\n"
   ]
  },
  {
   "cell_type": "code",
   "execution_count": null,
   "id": "bd802704",
   "metadata": {},
   "outputs": [],
   "source": []
  },
  {
   "cell_type": "code",
   "execution_count": null,
   "id": "cadb55f6",
   "metadata": {},
   "outputs": [],
   "source": []
  },
  {
   "cell_type": "code",
   "execution_count": null,
   "id": "82e3a641",
   "metadata": {},
   "outputs": [],
   "source": []
  }
 ],
 "metadata": {
  "kernelspec": {
   "display_name": "Python 3 (ipykernel)",
   "language": "python",
   "name": "python3"
  },
  "language_info": {
   "codemirror_mode": {
    "name": "ipython",
    "version": 3
   },
   "file_extension": ".py",
   "mimetype": "text/x-python",
   "name": "python",
   "nbconvert_exporter": "python",
   "pygments_lexer": "ipython3",
   "version": "3.11.5"
  }
 },
 "nbformat": 4,
 "nbformat_minor": 5
}
